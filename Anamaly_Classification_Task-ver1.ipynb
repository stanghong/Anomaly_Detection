{
 "cells": [
  {
   "cell_type": "markdown",
   "metadata": {},
   "source": [
    "**Task Description**\n",
    "\n",
    "Goal:\n",
    "The objective of the network optimization team is to analyze traces of past activity, which will be used to train an ML system capable of classifying samples of current activity as:\n",
    "• 0 (normal): current activity corresponds to normal behavior of any working day and. Therefore, no re-configuration or redistribution of resources is needed.\n",
    "• 1 (unusual): current activity slightly differs from the behavior usually observed for that time of the day (e.g. due to a strike, demonstration, sports event, etc.), which should trigger a reconfiguration of the base station.\n",
    "\n",
    "**Table of  Content**\n",
    "\n",
    "- 1. Importing library\n",
    "\n",
    "- 2. Data set overview\n",
    "    - 2.1 Training dataset\n",
    "    - 2.2 Test dataset\n",
    "  \n",
    "- 3. Exploratory data analysis and feature engineering\n",
    "    - 3.1 Numerical features\n",
    "        - 3.1.1 Variability\n",
    "        - 3.1.2 Missing values\n",
    "        - 3.1.3 Multicollinearity\n",
    "    - 3.2 Categorical features\n",
    "        - 3.2.1 Missing values\n",
    "        - 3.2.2 Target variable vs features\n",
    "\n",
    "- 4. Modeling\n",
    "    - 4.1 Split train dataset\n",
    "    - 4.2 Preprocessing pipeline\n",
    "    - 4.3 Modeling performance metrics\n",
    "    - 4.4 Logistic regression model\n",
    "    - 4.5 Random forest model\n",
    "\n",
    "- 5. Prediction\n",
    "\n",
    "\n",
    "**Content:**\n",
    "\n",
    "The dataset has been obtained from a real LTE deployment. During two weeks, different metrics were gathered from a set of 10 base stations, each having a different number of cells, every 15 minutes. The dataset is provided in the form of a csv file, where each row corresponds to a sample obtained from one particular cell at a certain time. Each data example contains the following features:\n",
    "\n",
    "- Time : hour of the day (in the format hh:mm) when the sample was generated.\n",
    "- CellName1: text string used to uniquely identify the cell that generated the current sample. CellName is in the form xαLTE, where x identifies the base station, and α the cell within that base station (see the example in the right figure).\n",
    "- PRBUsageUL and PRBUsageDL: level of resource utilization in that cell measured as the portion of Physical Radio Blocks (PRB) that were in use (%) in the previous 15 minutes. Uplink (UL) and downlink (DL) are measured separately.\n",
    "- meanThrDL and meanThrUL: average carried traffic (in Mbps) during the past 15 minutes. Uplink (UL) and downlink (DL) are measured separately.\n",
    "- maxThrDL and maxThrUL: maximum carried traffic (in Mbps) measured in the last 15 minutes. Uplink (UL) and downlink (DL) are measured separately.\n",
    "- meanUEDL and meanUEUL: average number of user equipment (UE) devices that were simultaneously active during the last 15 minutes. Uplink (UL) and downlink (DL) are measured separately.\n",
    "- maxUEDL and maxUEUL: maximum number of user equipment (UE) devices that were simultaneously active during the last 15 minutes. Uplink (UL) and downlink (DL) are measured separately.\n",
    "- maxUE_UL+DL: maximum number of user equipment (UE) devices that were active simultaneously in the last 15 minutes, regardless of UL and DL.\n",
    "\n",
    "- Unusual: labels for supervised learning. A value of 0 determines that the sample corresponds to normal operation, a value of 1 identifies unusual behavior."
   ]
  },
  {
   "cell_type": "markdown",
   "metadata": {},
   "source": [
    "# Importing library"
   ]
  },
  {
   "cell_type": "code",
   "execution_count": 489,
   "metadata": {},
   "outputs": [],
   "source": [
    "import pandas as pd\n",
    "import numpy as np\n",
    "import sklearn\n",
    "\n",
    "#Visualization\n",
    "import matplotlib.pyplot as plt\n",
    "from matplotlib.pyplot import figure\n",
    "%matplotlib inline\n",
    "import seaborn as sns"
   ]
  },
  {
   "cell_type": "code",
   "execution_count": 490,
   "metadata": {},
   "outputs": [],
   "source": [
    "# Import packages for model building\n",
    "from sklearn.base import BaseEstimator, TransformerMixin\n",
    "from sklearn.pipeline import Pipeline, FeatureUnion\n",
    "from sklearn.preprocessing import OneHotEncoder, FunctionTransformer, PowerTransformer\n",
    "from sklearn.preprocessing import MinMaxScaler, StandardScaler, RobustScaler\n",
    "from sklearn.experimental import enable_iterative_imputer\n",
    "from sklearn.impute import SimpleImputer, IterativeImputer, KNNImputer\n",
    "from sklearn.model_selection import train_test_split, GridSearchCV\n",
    "from sklearn.linear_model import LogisticRegression\n",
    "from sklearn.ensemble import RandomForestClassifier"
   ]
  },
  {
   "cell_type": "code",
   "execution_count": 491,
   "metadata": {},
   "outputs": [],
   "source": [
    "# Import packages for model evaluation\n",
    "from sklearn.metrics import accuracy_score, precision_score, recall_score, f1_score\n",
    "from sklearn.metrics import average_precision_score, precision_recall_curve, auc\n",
    "from sklearn.metrics import roc_curve, roc_auc_score\n",
    "from sklearn.metrics import make_scorer"
   ]
  },
  {
   "cell_type": "code",
   "execution_count": 492,
   "metadata": {},
   "outputs": [],
   "source": [
    "pd.set_option('display.max_columns', None)\n",
    "\n",
    "import warnings\n",
    "warnings.filterwarnings('ignore')"
   ]
  },
  {
   "cell_type": "code",
   "execution_count": 493,
   "metadata": {},
   "outputs": [],
   "source": [
    "import time\n",
    "t0 = time.time()"
   ]
  },
  {
   "cell_type": "code",
   "execution_count": 494,
   "metadata": {},
   "outputs": [],
   "source": [
    "from IPython.display import Markdown, display\n",
    "def printmd(string):\n",
    "    display(Markdown(string))"
   ]
  },
  {
   "cell_type": "markdown",
   "metadata": {},
   "source": [
    "# Data overview"
   ]
  },
  {
   "cell_type": "markdown",
   "metadata": {},
   "source": [
    "## Training dataset"
   ]
  },
  {
   "cell_type": "code",
   "execution_count": 495,
   "metadata": {},
   "outputs": [
    {
     "data": {
      "text/html": [
       "<div>\n",
       "<style scoped>\n",
       "    .dataframe tbody tr th:only-of-type {\n",
       "        vertical-align: middle;\n",
       "    }\n",
       "\n",
       "    .dataframe tbody tr th {\n",
       "        vertical-align: top;\n",
       "    }\n",
       "\n",
       "    .dataframe thead th {\n",
       "        text-align: right;\n",
       "    }\n",
       "</style>\n",
       "<table border=\"1\" class=\"dataframe\">\n",
       "  <thead>\n",
       "    <tr style=\"text-align: right;\">\n",
       "      <th></th>\n",
       "      <th>Time</th>\n",
       "      <th>CellName</th>\n",
       "      <th>PRBUsageUL</th>\n",
       "      <th>PRBUsageDL</th>\n",
       "      <th>meanThr_DL</th>\n",
       "      <th>meanThr_UL</th>\n",
       "      <th>maxThr_DL</th>\n",
       "      <th>maxThr_UL</th>\n",
       "      <th>meanUE_DL</th>\n",
       "      <th>meanUE_UL</th>\n",
       "      <th>maxUE_DL</th>\n",
       "      <th>maxUE_UL</th>\n",
       "      <th>maxUE_UL+DL</th>\n",
       "      <th>Unusual</th>\n",
       "    </tr>\n",
       "  </thead>\n",
       "  <tbody>\n",
       "    <tr>\n",
       "      <th>0</th>\n",
       "      <td>10:45</td>\n",
       "      <td>3BLTE</td>\n",
       "      <td>11.642</td>\n",
       "      <td>1.393</td>\n",
       "      <td>0.370</td>\n",
       "      <td>0.041</td>\n",
       "      <td>15.655</td>\n",
       "      <td>0.644</td>\n",
       "      <td>1.114</td>\n",
       "      <td>1.025</td>\n",
       "      <td>4.0</td>\n",
       "      <td>3.0</td>\n",
       "      <td>7</td>\n",
       "      <td>1</td>\n",
       "    </tr>\n",
       "    <tr>\n",
       "      <th>1</th>\n",
       "      <td>9:45</td>\n",
       "      <td>1BLTE</td>\n",
       "      <td>21.791</td>\n",
       "      <td>1.891</td>\n",
       "      <td>0.537</td>\n",
       "      <td>0.268</td>\n",
       "      <td>10.273</td>\n",
       "      <td>1.154</td>\n",
       "      <td>1.353</td>\n",
       "      <td>1.085</td>\n",
       "      <td>6.0</td>\n",
       "      <td>4.0</td>\n",
       "      <td>10</td>\n",
       "      <td>1</td>\n",
       "    </tr>\n",
       "    <tr>\n",
       "      <th>2</th>\n",
       "      <td>7:45</td>\n",
       "      <td>9BLTE</td>\n",
       "      <td>0.498</td>\n",
       "      <td>0.398</td>\n",
       "      <td>0.015</td>\n",
       "      <td>0.010</td>\n",
       "      <td>0.262</td>\n",
       "      <td>0.164</td>\n",
       "      <td>0.995</td>\n",
       "      <td>0.995</td>\n",
       "      <td>1.0</td>\n",
       "      <td>1.0</td>\n",
       "      <td>2</td>\n",
       "      <td>1</td>\n",
       "    </tr>\n",
       "    <tr>\n",
       "      <th>3</th>\n",
       "      <td>2:45</td>\n",
       "      <td>4ALTE</td>\n",
       "      <td>1.891</td>\n",
       "      <td>1.095</td>\n",
       "      <td>0.940</td>\n",
       "      <td>0.024</td>\n",
       "      <td>60.715</td>\n",
       "      <td>0.825</td>\n",
       "      <td>1.035</td>\n",
       "      <td>0.995</td>\n",
       "      <td>2.0</td>\n",
       "      <td>2.0</td>\n",
       "      <td>4</td>\n",
       "      <td>1</td>\n",
       "    </tr>\n",
       "    <tr>\n",
       "      <th>4</th>\n",
       "      <td>3:30</td>\n",
       "      <td>10BLTE</td>\n",
       "      <td>0.303</td>\n",
       "      <td>0.404</td>\n",
       "      <td>0.016</td>\n",
       "      <td>0.013</td>\n",
       "      <td>0.348</td>\n",
       "      <td>0.168</td>\n",
       "      <td>1.011</td>\n",
       "      <td>1.011</td>\n",
       "      <td>2.0</td>\n",
       "      <td>1.0</td>\n",
       "      <td>3</td>\n",
       "      <td>0</td>\n",
       "    </tr>\n",
       "  </tbody>\n",
       "</table>\n",
       "</div>"
      ],
      "text/plain": [
       "    Time CellName  PRBUsageUL  PRBUsageDL  meanThr_DL  meanThr_UL  maxThr_DL  \\\n",
       "0  10:45    3BLTE      11.642       1.393       0.370       0.041     15.655   \n",
       "1   9:45    1BLTE      21.791       1.891       0.537       0.268     10.273   \n",
       "2   7:45    9BLTE       0.498       0.398       0.015       0.010      0.262   \n",
       "3   2:45    4ALTE       1.891       1.095       0.940       0.024     60.715   \n",
       "4   3:30   10BLTE       0.303       0.404       0.016       0.013      0.348   \n",
       "\n",
       "   maxThr_UL  meanUE_DL  meanUE_UL  maxUE_DL  maxUE_UL maxUE_UL+DL  Unusual  \n",
       "0      0.644      1.114      1.025       4.0       3.0           7        1  \n",
       "1      1.154      1.353      1.085       6.0       4.0          10        1  \n",
       "2      0.164      0.995      0.995       1.0       1.0           2        1  \n",
       "3      0.825      1.035      0.995       2.0       2.0           4        1  \n",
       "4      0.168      1.011      1.011       2.0       1.0           3        0  "
      ]
     },
     "execution_count": 495,
     "metadata": {},
     "output_type": "execute_result"
    }
   ],
   "source": [
    "# Load train data\n",
    "train_raw = pd.read_csv('ML-MATT-CompetitionQT1920_train.csv')\n",
    "train_raw.head()"
   ]
  },
  {
   "cell_type": "code",
   "execution_count": 496,
   "metadata": {},
   "outputs": [
    {
     "data": {
      "text/plain": [
       "True"
      ]
     },
     "execution_count": 496,
     "metadata": {},
     "output_type": "execute_result"
    }
   ],
   "source": [
    "# Check duplicate records\n",
    "train_raw.duplicated().any()"
   ]
  },
  {
   "cell_type": "code",
   "execution_count": 497,
   "metadata": {},
   "outputs": [],
   "source": [
    "train_raw.drop_duplicates(inplace=True)"
   ]
  },
  {
   "cell_type": "code",
   "execution_count": 498,
   "metadata": {},
   "outputs": [
    {
     "name": "stdout",
     "output_type": "stream",
     "text": [
      "<class 'pandas.core.frame.DataFrame'>\n",
      "Int64Index: 36798 entries, 0 to 36903\n",
      "Data columns (total 14 columns):\n",
      " #   Column       Non-Null Count  Dtype  \n",
      "---  ------       --------------  -----  \n",
      " 0   Time         36798 non-null  object \n",
      " 1   CellName     36798 non-null  object \n",
      " 2   PRBUsageUL   36798 non-null  float64\n",
      " 3   PRBUsageDL   36798 non-null  float64\n",
      " 4   meanThr_DL   36798 non-null  float64\n",
      " 5   meanThr_UL   36798 non-null  float64\n",
      " 6   maxThr_DL    36798 non-null  float64\n",
      " 7   maxThr_UL    36798 non-null  float64\n",
      " 8   meanUE_DL    36798 non-null  float64\n",
      " 9   meanUE_UL    36798 non-null  float64\n",
      " 10  maxUE_DL     36709 non-null  float64\n",
      " 11  maxUE_UL     36709 non-null  float64\n",
      " 12  maxUE_UL+DL  36793 non-null  object \n",
      " 13  Unusual      36798 non-null  int64  \n",
      "dtypes: float64(10), int64(1), object(3)\n",
      "memory usage: 4.2+ MB\n"
     ]
    }
   ],
   "source": [
    "# Shape and data type\n",
    "train_raw.info()"
   ]
  },
  {
   "cell_type": "markdown",
   "metadata": {},
   "source": [
    "### Dependent variable"
   ]
  },
  {
   "cell_type": "code",
   "execution_count": 499,
   "metadata": {},
   "outputs": [],
   "source": [
    "y = train_raw['Unusual']"
   ]
  },
  {
   "cell_type": "code",
   "execution_count": 500,
   "metadata": {},
   "outputs": [
    {
     "data": {
      "text/plain": [
       "0"
      ]
     },
     "execution_count": 500,
     "metadata": {},
     "output_type": "execute_result"
    }
   ],
   "source": [
    "# Check missing value; records with missing label should be removed\n",
    "y.isnull().sum()"
   ]
  },
  {
   "cell_type": "code",
   "execution_count": 501,
   "metadata": {},
   "outputs": [
    {
     "data": {
      "image/png": "[encoded data removed]",
      "text/plain": [
       "<Figure size 720x252 with 2 Axes>"
      ]
     },
     "metadata": {
      "needs_background": "light"
     },
     "output_type": "display_data"
    }
   ],
   "source": [
    "# Check value distribution\n",
    "fig, axes = plt.subplots(nrows=1, ncols=2, figsize=(10, 3.5))\n",
    "axes[0].bar([\"0\", \"1\"],y.value_counts())\n",
    "for i, v in enumerate(y.value_counts()):\n",
    "    axes[0].text(i-0.05, v+300, str(v))\n",
    "axes[1].pie(y.value_counts(), labels=[\"0\", \"1\"], \n",
    "            autopct='%1.1f%%')\n",
    "fig.tight_layout()"
   ]
  },
  {
   "cell_type": "markdown",
   "metadata": {},
   "source": [
    "**Observation**: The training dataset exhibited some degree of imbalance (i.e., 27.6% label \"1\"), which should be accounted when building the model later on."
   ]
  },
  {
   "cell_type": "markdown",
   "metadata": {},
   "source": [
    "## Feature Investigation and Engineering"
   ]
  },
  {
   "cell_type": "code",
   "execution_count": 502,
   "metadata": {},
   "outputs": [],
   "source": [
    "X_raw=train_raw"
   ]
  },
  {
   "cell_type": "code",
   "execution_count": 503,
   "metadata": {},
   "outputs": [
    {
     "data": {
      "text/plain": [
       "['Time', 'CellName', 'maxUE_UL+DL']"
      ]
     },
     "execution_count": 503,
     "metadata": {},
     "output_type": "execute_result"
    }
   ],
   "source": [
    "object_v = list(X_raw.select_dtypes(include=['object']).columns)\n",
    "object_v"
   ]
  },
  {
   "cell_type": "markdown",
   "metadata": {},
   "source": [
    "#### Conclusion\n",
    "1. Time needs to be transformed into datetime format\n",
    "2. CellName: might not be meaning for for our analysis\n",
    "3. Features ('maxUE_UL+DL', 'maxUE_DL_median') to investigate"
   ]
  },
  {
   "cell_type": "code",
   "execution_count": 504,
   "metadata": {},
   "outputs": [
    {
     "data": {
      "text/plain": [
       "['PRBUsageUL',\n",
       " 'PRBUsageDL',\n",
       " 'meanThr_DL',\n",
       " 'meanThr_UL',\n",
       " 'maxThr_DL',\n",
       " 'maxThr_UL',\n",
       " 'meanUE_DL',\n",
       " 'meanUE_UL',\n",
       " 'maxUE_DL',\n",
       " 'maxUE_UL']"
      ]
     },
     "execution_count": 504,
     "metadata": {},
     "output_type": "execute_result"
    }
   ],
   "source": [
    "list(X_raw.select_dtypes(include=['float64']).columns)"
   ]
  },
  {
   "cell_type": "code",
   "execution_count": 505,
   "metadata": {
    "scrolled": true
   },
   "outputs": [
    {
     "data": {
      "image/png": "[encoded data removed]",
      "text/plain": [
       "<Figure size 1152x432 with 10 Axes>"
      ]
     },
     "metadata": {
      "needs_background": "light"
     },
     "output_type": "display_data"
    }
   ],
   "source": [
    "import warnings\n",
    "warnings.filterwarnings('ignore')\n",
    "\n",
    "float_v = list(X_raw.select_dtypes(include=['float64']).columns)\n",
    "\n",
    "fig, ((ax1, ax2, ax3, ax4, ax5), (ax6, ax7,  ax8, ax9, ax10)) = plt.subplots(2, 5, figsize=(16,6))\n",
    "axs='ax'+str(i+1)\n",
    "\n",
    "ax1.hist(X_raw.PRBUsageUL, bins=40)\n",
    "ax1.set_title('PRBUsageUL distribution')\n",
    "ax2.hist(X_raw.PRBUsageDL, bins=40)\n",
    "ax2.set_title('PRBUsageDL distribution')\n",
    "\n",
    "ax3.hist(X_raw.meanThr_UL, bins=40)\n",
    "ax3.set_title('meanThr_UL distribution')\n",
    "ax4.hist(X_raw.maxThr_DL, bins=40)\n",
    "ax4.set_title('maxThr_DL distribution')\n",
    "\n",
    "ax5.hist(X_raw.maxThr_UL, bins=40)\n",
    "ax5.set_title('maxThr_UL distribution')\n",
    "ax6.hist(X_raw.maxThr_DL, bins=40)\n",
    "ax6.set_title('maxThr_DL distribution')\n",
    "\n",
    "ax7.hist(X_raw.meanUE_UL, bins=40)\n",
    "ax7.set_title('meanUE_UL distribution')\n",
    "ax8.hist(X_raw.meanUE_DL, bins=40)\n",
    "ax8.set_title('meanUE_DL distribution')\n",
    "\n",
    "ax9.hist(X_raw.maxUE_UL, bins=40)\n",
    "ax9.set_title('maxUE_UL distribution')\n",
    "ax10.hist(X_raw.maxUE_DL, bins=40)\n",
    "ax10.set_title('maxUE_DL distribution')\n",
    "fig.tight_layout(pad=2.0)\n",
    "plt.show()\n"
   ]
  },
  {
   "cell_type": "markdown",
   "metadata": {},
   "source": [
    "### Key observations:\n",
    "1. potential outliers in PRBUsageDL, maxThr_UL, maxUE_UL; are the outliers associate with unusal behavior?\n",
    "2. meanUS_UL has many zeros. Is this associate with unsual behavior? We need to look into labeled charts\n",
    "\n",
    "4. 'PRBUsageUL', 'PRBUsageDL', 'maxThr_DL' are log normal distributed. We may want to test on log transformation to see if it improves prediction accuracy"
   ]
  },
  {
   "cell_type": "code",
   "execution_count": 506,
   "metadata": {
    "scrolled": true
   },
   "outputs": [
    {
     "data": {
      "text/markdown": [
       "**Check univariate distribution of raw data, what are the key observations?**"
      ],
      "text/plain": [
       "<IPython.core.display.Markdown object>"
      ]
     },
     "metadata": {},
     "output_type": "display_data"
    },
    {
     "data": {
      "image/png": "[encoded data removed]",
      "text/plain": [
       "<Figure size 1152x432 with 10 Axes>"
      ]
     },
     "metadata": {
      "needs_background": "light"
     },
     "output_type": "display_data"
    }
   ],
   "source": [
    "import warnings\n",
    "warnings.filterwarnings('ignore')\n",
    "\n",
    "printmd('**Check univariate distribution of raw data, what are the key observations?**')\n",
    "\n",
    "\n",
    "float_v = list(train_raw.loc[train_raw['Unusual']==1].select_dtypes(include=['float64']).columns)\n",
    "\n",
    "fig, ((ax1, ax2, ax3, ax4, ax5), (ax6, ax7,  ax8, ax9, ax10)) = plt.subplots(2, 5, figsize=(16,6))\n",
    "axs='ax'+str(i+1)\n",
    "\n",
    "ax1.hist(train_raw.loc[train_raw['Unusual']==1].PRBUsageUL, alpha=0.5, bins=40, density=True, label='Unusual')\n",
    "ax1.hist(train_raw.loc[train_raw['Unusual']==0].PRBUsageUL, alpha=0.5, bins=40, density=True, label='Usual')\n",
    "ax1.set_title('PRBUsageUL distribution')\n",
    "ax2.hist(train_raw.loc[train_raw['Unusual']==1].PRBUsageDL, alpha=0.5, bins=40, density=True, label='Unusual')\n",
    "ax2.hist(train_raw.loc[train_raw['Unusual']==0].PRBUsageDL, alpha=0.5, bins=40, density=True, label='Usual')\n",
    "ax2.set_title('PRBUsageDL distribution')\n",
    "\n",
    "ax3.hist(train_raw.loc[train_raw['Unusual']==1].meanThr_UL, alpha=0.5, bins=40, density=True, label='Unusual')\n",
    "ax3.hist(train_raw.loc[train_raw['Unusual']==0].meanThr_UL, alpha=0.5, bins=40, density=True, label='Usual')\n",
    "ax3.set_title('meanThr_UL distribution')\n",
    "ax4.hist(train_raw.loc[train_raw['Unusual']==1].meanThr_DL, alpha=0.5, bins=40, density=True, label='Unusual')\n",
    "ax4.hist(train_raw.loc[train_raw['Unusual']==0].meanThr_DL, alpha=0.5, bins=40, density=True, label='Usual')\n",
    "ax4.set_title('meanThr_DL distribution')\n",
    "\n",
    "ax5.hist(train_raw.loc[train_raw['Unusual']==1].maxThr_UL, alpha=0.5, bins=40, density=True, label='Unusual')\n",
    "ax5.hist(train_raw.loc[train_raw['Unusual']==0].maxThr_UL, alpha=0.5, bins=40, density=True, label='Usual')\n",
    "ax5.set_title('maxThr_UL distribution')\n",
    "\n",
    "ax6.hist(train_raw.loc[train_raw['Unusual']==1].maxThr_DL, alpha=0.5, bins=40, density=True, label='Unusual')\n",
    "ax6.hist(train_raw.loc[train_raw['Unusual']==0].maxThr_DL, alpha=0.5, bins=40, density=True, label='Usual')\n",
    "ax6.set_title('maxThr_DL distribution')\n",
    "\n",
    "ax7.hist(train_raw.loc[train_raw['Unusual']==1].meanUE_UL, alpha=0.5, bins=40, density=True, label='Unusual')\n",
    "ax7.hist(train_raw.loc[train_raw['Unusual']==0].meanUE_UL, alpha=0.5, bins=40, density=True, label='Usual')\n",
    "ax7.set_title('meanUE_UL distribution')\n",
    "ax8.hist(train_raw.loc[train_raw['Unusual']==1].meanUE_DL, alpha=0.5, bins=40, density=True, label='Unusual')\n",
    "ax8.hist(train_raw.loc[train_raw['Unusual']==0].meanUE_DL, alpha=0.5, bins=40, density=True, label='Usual')\n",
    "ax8.set_title('meanUE_DL distribution')\n",
    "\n",
    "ax9.hist(train_raw.loc[train_raw['Unusual']==1].maxUE_UL, alpha=0.5, bins=40, density=True, label='Unusual')\n",
    "ax9.hist(train_raw.loc[train_raw['Unusual']==0].maxUE_UL, alpha=0.5, bins=40, density=True, label='Usual')\n",
    "ax9.set_title('maxUE_UL distribution')\n",
    "ax10.hist(train_raw.loc[train_raw['Unusual']==1].maxUE_DL, alpha=0.5, bins=40, density=True, label='Unusual')\n",
    "ax10.hist(train_raw.loc[train_raw['Unusual']==0].maxUE_DL, alpha=0.5, bins=40, density=True, label='Usual')\n",
    "ax10.set_title('maxUE_DL distribution')\n",
    "fig.tight_layout(pad=2.0)\n",
    "ax3.legend(loc=\"best\")\n",
    "plt.show()\n"
   ]
  },
  {
   "cell_type": "code",
   "execution_count": 507,
   "metadata": {},
   "outputs": [
    {
     "data": {
      "text/plain": [
       "Index(['Time', 'CellName', 'PRBUsageUL', 'PRBUsageDL', 'meanThr_DL',\n",
       "       'meanThr_UL', 'maxThr_DL', 'maxThr_UL', 'meanUE_DL', 'meanUE_UL',\n",
       "       'maxUE_DL', 'maxUE_UL', 'maxUE_UL+DL', 'Unusual'],\n",
       "      dtype='object')"
      ]
     },
     "execution_count": 507,
     "metadata": {},
     "output_type": "execute_result"
    }
   ],
   "source": [
    "train_raw.columns"
   ]
  },
  {
   "cell_type": "markdown",
   "metadata": {},
   "source": [
    "def logtran(x):\n",
    "    if x<=0:\n",
    "        x=0.01\n",
    "    else:\n",
    "        x=np.log(x)\n",
    "    return x\n",
    "\n",
    "features=['PRBUsageUL', 'PRBUsageDL', 'meanThr_DL','meanThr_UL', 'maxThr_DL', 'maxThr_UL', 'meanUE_DL', 'meanUE_UL',]\n",
    "for feature in features:\n",
    "          X_raw[feature]=X_raw[feature].apply(logtran)"
   ]
  },
  {
   "cell_type": "markdown",
   "metadata": {
    "scrolled": true
   },
   "source": [
    "import warnings\n",
    "warnings.filterwarnings('ignore')\n",
    "\n",
    "float_v = list(X_raw.select_dtypes(include=['float64']).columns)\n",
    "\n",
    "fig, ((ax1, ax2, ax3, ax4, ax5), (ax6, ax7,  ax8, ax9, ax10)) = plt.subplots(2, 5, figsize=(16,6))\n",
    "axs='ax'+str(i+1)\n",
    "\n",
    "ax1.hist(X_raw.PRBUsageUL, bins=40)\n",
    "ax1.set_title('PRBUsageUL distribution')\n",
    "ax2.hist(X_raw.PRBUsageDL, bins=40)\n",
    "ax2.set_title('PRBUsageDL distribution')\n",
    "\n",
    "ax3.hist(X_raw.meanThr_UL, bins=40)\n",
    "ax3.set_title('meanThr_UL distribution')\n",
    "ax4.hist(X_raw.maxThr_DL, bins=40)\n",
    "ax4.set_title('maxThr_DL distribution')\n",
    "\n",
    "ax5.hist(X_raw.maxThr_UL, bins=40)\n",
    "ax5.set_title('maxThr_UL distribution')\n",
    "ax6.hist(X_raw.maxThr_DL, bins=40)\n",
    "ax6.set_title('maxThr_DL distribution')\n",
    "\n",
    "ax7.hist(X_raw.meanUE_UL, bins=40)\n",
    "ax7.set_title('meanUE_UL distribution')\n",
    "ax8.hist(X_raw.meanUE_DL, bins=40)\n",
    "ax8.set_title('meanUE_DL distribution')\n",
    "\n",
    "ax9.hist(X_raw.maxUE_UL, bins=40)\n",
    "ax9.set_title('maxUE_UL distribution')\n",
    "ax10.hist(X_raw.maxUE_DL, bins=40)\n",
    "ax10.set_title('maxUE_DL distribution')\n",
    "fig.tight_layout(pad=2.0)\n",
    "plt.show()\n"
   ]
  },
  {
   "cell_type": "code",
   "execution_count": 508,
   "metadata": {
    "scrolled": true
   },
   "outputs": [
    {
     "data": {
      "text/plain": [
       "<AxesSubplot:>"
      ]
     },
     "execution_count": 508,
     "metadata": {},
     "output_type": "execute_result"
    },
    {
     "data": {
      "image/png": "[encoded data removed]",
      "text/plain": [
       "<Figure size 1152x595.44 with 1 Axes>"
      ]
     },
     "metadata": {},
     "output_type": "display_data"
    }
   ],
   "source": [
    "# axes[0].bar([\"0\", \"1\"],y.value_counts())\n",
    "# for i, v in enumerate(y.value_counts()):\n",
    "#     axes[0].text(i-0.05, v+300, str(v))\n",
    "# axes[1].pie(y.value_counts(), labels=[\"0\", \"1\"], \n",
    "#             autopct='%1.1f%%')\n",
    "sns.set(rc={'figure.figsize':(16,8.27)})\n",
    "fig.tight_layout()\n",
    "sns.boxplot(data=X_raw)"
   ]
  },
  {
   "cell_type": "markdown",
   "metadata": {},
   "source": [
    "**Note**: Server Outliers in many features. Normally, it is good time to talk to domain expert to figure out why; here we will try to handle outlier and check if it improves the prediction accuracy. Then decision will be made on the test"
   ]
  },
  {
   "cell_type": "markdown",
   "metadata": {},
   "source": [
    "Apply IOR outlier handling on all variables"
   ]
  },
  {
   "cell_type": "code",
   "execution_count": 509,
   "metadata": {},
   "outputs": [],
   "source": [
    "#remove outliers \n",
    "for feature in float_v:\n",
    "    upperbound=X_raw[feature].quantile(0.999)\n",
    "    X_raw.loc[(X_raw[feature]>upperbound),feature]=upperbound"
   ]
  },
  {
   "cell_type": "markdown",
   "metadata": {},
   "source": [
    "### Key observations:\n",
    "1.checked labeled plot there are some difference between usual-unusal data in features maxThr_DL,maxThr_UL; which migh prodive useful information for classify the data."
   ]
  },
  {
   "cell_type": "code",
   "execution_count": 510,
   "metadata": {
    "scrolled": true
   },
   "outputs": [
    {
     "data": {
      "text/markdown": [
       "**independent and dependent variables, which features have high correlation with dependent var. and how about colinearlity?**"
      ],
      "text/plain": [
       "<IPython.core.display.Markdown object>"
      ]
     },
     "metadata": {},
     "output_type": "display_data"
    },
    {
     "data": {
      "text/plain": [
       "<AxesSubplot:>"
      ]
     },
     "execution_count": 510,
     "metadata": {},
     "output_type": "execute_result"
    },
    {
     "data": {
      "image/png": "[encoded data removed]",
      "text/plain": [
       "<Figure size 1296x1080 with 2 Axes>"
      ]
     },
     "metadata": {},
     "output_type": "display_data"
    }
   ],
   "source": [
    "printmd('**independent and dependent variables, which features have high correlation with dependent var. and how about colinearlity?**')\n",
    "sns.set(style=\"white\")\n",
    "features=float_v+['Unusual']\n",
    "corr = train_raw[features].corr()\n",
    "\n",
    "#Generate a mask for the upper triangle:\n",
    "mask = np.zeros_like(corr, dtype=np.bool)\n",
    "mask[np.triu_indices_from(mask)] = True\n",
    "#Set up the matplotlib figure and a diverging colormap:\n",
    "f, ax = plt.subplots(figsize=(18, 15))\n",
    "cmap = sns.diverging_palette(220, 10, as_cmap=True)\n",
    "#Draw the heatmap with the mask and correct aspect ratio:\n",
    "sns.heatmap(corr, mask=mask, cmap=cmap, vmax=.9, center=0, annot=True, \n",
    "square=True, linewidths=.5, cbar_kws={\"shrink\": .5})"
   ]
  },
  {
   "cell_type": "markdown",
   "metadata": {},
   "source": [
    "#### Observations: \n",
    "1. there is genmeral weak correlation between independent features and dependent variable\n",
    "2. relatively good correlation beween independent variables such as 'PRBUsageUL', 'meanUE_DL', 'maxUE_DL', 'maxUE_UL'\n",
    "3. there are strong collinearlity which will be handled in modeling stage"
   ]
  },
  {
   "cell_type": "markdown",
   "metadata": {},
   "source": [
    "#### Action Plan\n",
    "1. Let's handle outliers and apply logtransformation to check if it give us better corrlation with independent variables\n",
    "2. We will also run sensitivity study to compare if remove outlier and log-transformation improve prediction accuracy"
   ]
  },
  {
   "cell_type": "markdown",
   "metadata": {},
   "source": [
    "### Independent variables"
   ]
  },
  {
   "cell_type": "code",
   "execution_count": 511,
   "metadata": {},
   "outputs": [],
   "source": [
    "X_raw = train_raw.drop('Unusual', 1)"
   ]
  },
  {
   "cell_type": "code",
   "execution_count": 512,
   "metadata": {},
   "outputs": [],
   "source": [
    "# Per train_raw.info(), there are three types of variables based on data type\n",
    "float_v = list(X_raw.select_dtypes(include=['float64']).columns)\n",
    "# int_v = list(X_raw.select_dtypes(include=['int64']).columns)\n",
    "object_v = list(X_raw.select_dtypes(include=['object']).columns)"
   ]
  },
  {
   "cell_type": "code",
   "execution_count": 513,
   "metadata": {
    "scrolled": true
   },
   "outputs": [
    {
     "data": {
      "text/html": [
       "<div>\n",
       "<style scoped>\n",
       "    .dataframe tbody tr th:only-of-type {\n",
       "        vertical-align: middle;\n",
       "    }\n",
       "\n",
       "    .dataframe tbody tr th {\n",
       "        vertical-align: top;\n",
       "    }\n",
       "\n",
       "    .dataframe thead th {\n",
       "        text-align: right;\n",
       "    }\n",
       "</style>\n",
       "<table border=\"1\" class=\"dataframe\">\n",
       "  <thead>\n",
       "    <tr style=\"text-align: right;\">\n",
       "      <th></th>\n",
       "      <th>PRBUsageUL</th>\n",
       "      <th>PRBUsageDL</th>\n",
       "      <th>meanThr_DL</th>\n",
       "      <th>meanThr_UL</th>\n",
       "      <th>maxThr_DL</th>\n",
       "      <th>maxThr_UL</th>\n",
       "      <th>meanUE_DL</th>\n",
       "      <th>meanUE_UL</th>\n",
       "      <th>maxUE_DL</th>\n",
       "      <th>maxUE_UL</th>\n",
       "    </tr>\n",
       "  </thead>\n",
       "  <tbody>\n",
       "    <tr>\n",
       "      <th>count</th>\n",
       "      <td>36798.000000</td>\n",
       "      <td>36798.000000</td>\n",
       "      <td>36798.000000</td>\n",
       "      <td>36798.000000</td>\n",
       "      <td>36798.000000</td>\n",
       "      <td>36798.000000</td>\n",
       "      <td>36798.000000</td>\n",
       "      <td>36798.000000</td>\n",
       "      <td>36709.000000</td>\n",
       "      <td>36709.000000</td>\n",
       "    </tr>\n",
       "    <tr>\n",
       "      <th>mean</th>\n",
       "      <td>7.854148</td>\n",
       "      <td>2.101741</td>\n",
       "      <td>0.559920</td>\n",
       "      <td>0.065253</td>\n",
       "      <td>17.804884</td>\n",
       "      <td>1.796548</td>\n",
       "      <td>1.176451</td>\n",
       "      <td>0.666903</td>\n",
       "      <td>4.202158</td>\n",
       "      <td>3.071318</td>\n",
       "    </tr>\n",
       "    <tr>\n",
       "      <th>std</th>\n",
       "      <td>8.415566</td>\n",
       "      <td>2.099341</td>\n",
       "      <td>0.699604</td>\n",
       "      <td>0.105049</td>\n",
       "      <td>15.673823</td>\n",
       "      <td>5.029950</td>\n",
       "      <td>0.204688</td>\n",
       "      <td>0.534669</td>\n",
       "      <td>1.759134</td>\n",
       "      <td>1.376230</td>\n",
       "    </tr>\n",
       "    <tr>\n",
       "      <th>min</th>\n",
       "      <td>0.000000</td>\n",
       "      <td>0.000000</td>\n",
       "      <td>0.000000</td>\n",
       "      <td>0.000000</td>\n",
       "      <td>0.000000</td>\n",
       "      <td>0.000000</td>\n",
       "      <td>0.000000</td>\n",
       "      <td>0.000000</td>\n",
       "      <td>0.000000</td>\n",
       "      <td>0.000000</td>\n",
       "    </tr>\n",
       "    <tr>\n",
       "      <th>25%</th>\n",
       "      <td>1.213000</td>\n",
       "      <td>0.707000</td>\n",
       "      <td>0.142000</td>\n",
       "      <td>0.021000</td>\n",
       "      <td>5.770250</td>\n",
       "      <td>0.365000</td>\n",
       "      <td>1.041000</td>\n",
       "      <td>0.010000</td>\n",
       "      <td>3.000000</td>\n",
       "      <td>2.000000</td>\n",
       "    </tr>\n",
       "    <tr>\n",
       "      <th>50%</th>\n",
       "      <td>4.547000</td>\n",
       "      <td>1.393000</td>\n",
       "      <td>0.354000</td>\n",
       "      <td>0.040000</td>\n",
       "      <td>14.218000</td>\n",
       "      <td>0.706000</td>\n",
       "      <td>1.114000</td>\n",
       "      <td>1.011000</td>\n",
       "      <td>4.000000</td>\n",
       "      <td>3.000000</td>\n",
       "    </tr>\n",
       "    <tr>\n",
       "      <th>75%</th>\n",
       "      <td>12.139000</td>\n",
       "      <td>2.786000</td>\n",
       "      <td>0.720000</td>\n",
       "      <td>0.075000</td>\n",
       "      <td>25.118500</td>\n",
       "      <td>1.244000</td>\n",
       "      <td>1.263000</td>\n",
       "      <td>1.051000</td>\n",
       "      <td>5.000000</td>\n",
       "      <td>4.000000</td>\n",
       "    </tr>\n",
       "    <tr>\n",
       "      <th>max</th>\n",
       "      <td>38.925300</td>\n",
       "      <td>17.805503</td>\n",
       "      <td>6.724947</td>\n",
       "      <td>1.680639</td>\n",
       "      <td>96.235525</td>\n",
       "      <td>46.611436</td>\n",
       "      <td>2.290015</td>\n",
       "      <td>1.920000</td>\n",
       "      <td>10.000000</td>\n",
       "      <td>9.000000</td>\n",
       "    </tr>\n",
       "  </tbody>\n",
       "</table>\n",
       "</div>"
      ],
      "text/plain": [
       "         PRBUsageUL    PRBUsageDL    meanThr_DL    meanThr_UL     maxThr_DL  \\\n",
       "count  36798.000000  36798.000000  36798.000000  36798.000000  36798.000000   \n",
       "mean       7.854148      2.101741      0.559920      0.065253     17.804884   \n",
       "std        8.415566      2.099341      0.699604      0.105049     15.673823   \n",
       "min        0.000000      0.000000      0.000000      0.000000      0.000000   \n",
       "25%        1.213000      0.707000      0.142000      0.021000      5.770250   \n",
       "50%        4.547000      1.393000      0.354000      0.040000     14.218000   \n",
       "75%       12.139000      2.786000      0.720000      0.075000     25.118500   \n",
       "max       38.925300     17.805503      6.724947      1.680639     96.235525   \n",
       "\n",
       "          maxThr_UL     meanUE_DL     meanUE_UL      maxUE_DL      maxUE_UL  \n",
       "count  36798.000000  36798.000000  36798.000000  36709.000000  36709.000000  \n",
       "mean       1.796548      1.176451      0.666903      4.202158      3.071318  \n",
       "std        5.029950      0.204688      0.534669      1.759134      1.376230  \n",
       "min        0.000000      0.000000      0.000000      0.000000      0.000000  \n",
       "25%        0.365000      1.041000      0.010000      3.000000      2.000000  \n",
       "50%        0.706000      1.114000      1.011000      4.000000      3.000000  \n",
       "75%        1.244000      1.263000      1.051000      5.000000      4.000000  \n",
       "max       46.611436      2.290015      1.920000     10.000000      9.000000  "
      ]
     },
     "execution_count": 513,
     "metadata": {},
     "output_type": "execute_result"
    }
   ],
   "source": [
    "# Value distribution of float_v\n",
    "X_raw[float_v].describe()"
   ]
  },
  {
   "cell_type": "markdown",
   "metadata": {},
   "source": [
    "**Observation**: Some variables have dramatically different scales (e.g., \"x4\" is distributed between [-5.14, 5.15] vs. \"x41\" between [94236.45, 105443.36], which may require scaling before building models. In addition, some variables (e.g., \"x16\") appear to have low variability. These variables may not contribute to model performance and can be deleted before building models. This aspect will be addressed in more depth in the EDA and feature engineering section."
   ]
  },
  {
   "cell_type": "code",
   "execution_count": 514,
   "metadata": {
    "scrolled": true
   },
   "outputs": [],
   "source": [
    "# # Value distribution of int_v\n",
    "# for v in int_v:\n",
    "#     print('-------Value counts of {} in train dataset------\\n'.format(v))\n",
    "#     print(X_raw[v].value_counts(), '\\n')"
   ]
  },
  {
   "cell_type": "code",
   "execution_count": 515,
   "metadata": {},
   "outputs": [
    {
     "name": "stdout",
     "output_type": "stream",
     "text": [
      "-------Value counts of Time in train dataset------\n",
      "\n",
      "12:00    423\n",
      "3:00     411\n",
      "9:45     410\n",
      "7:30     409\n",
      "9:00     406\n",
      "        ... \n",
      "16:30    358\n",
      "20:30    358\n",
      "19:00    357\n",
      "15:45    355\n",
      "21:00    351\n",
      "Name: Time, Length: 96, dtype: int64 \n",
      "\n",
      "-------Value counts of CellName in train dataset------\n",
      "\n",
      "5ALTE     1157\n",
      "4CLTE     1150\n",
      "4ALTE     1147\n",
      "8ALTE     1142\n",
      "8CLTE     1137\n",
      "4BLTE     1134\n",
      "6ALTE     1134\n",
      "6VLTE     1134\n",
      "6WLTE     1133\n",
      "3CLTE     1131\n",
      "5CLTE     1131\n",
      "6ULTE     1129\n",
      "7BLTE     1128\n",
      "1ALTE     1122\n",
      "10ALTE    1121\n",
      "1CLTE     1120\n",
      "7ULTE     1120\n",
      "8BLTE     1118\n",
      "1BLTE     1117\n",
      "3BLTE     1117\n",
      "10CLTE    1117\n",
      "7WLTE     1116\n",
      "9BLTE     1116\n",
      "6BLTE     1112\n",
      "10BLTE    1107\n",
      "3ALTE     1107\n",
      "5BLTE     1104\n",
      "6CLTE     1102\n",
      "9ALTE     1099\n",
      "7CLTE     1096\n",
      "7ALTE     1083\n",
      "2ALTE     1010\n",
      "7VLTE     1007\n",
      "Name: CellName, dtype: int64 \n",
      "\n",
      "-------Value counts of maxUE_UL+DL in train dataset------\n",
      "\n",
      "5           5939\n",
      "7           5322\n",
      "8           3889\n",
      "6           3883\n",
      "9           3439\n",
      "4           3391\n",
      "10          2539\n",
      "11          1899\n",
      "3           1636\n",
      "12          1388\n",
      "2           1113\n",
      "13           909\n",
      "14           597\n",
      "15           326\n",
      "16           178\n",
      "#�VALOR!      84\n",
      "17            82\n",
      "0             60\n",
      "18            41\n",
      "19            31\n",
      "1             25\n",
      "20            18\n",
      "23             2\n",
      "21             2\n",
      "Name: maxUE_UL+DL, dtype: int64 \n",
      "\n"
     ]
    }
   ],
   "source": [
    "# Value distribution of object_v\n",
    "for v in object_v:\n",
    "    print('-------Value counts of {} in train dataset------\\n'.format(v))\n",
    "    print(X_raw[v].value_counts(), '\\n')"
   ]
  },
  {
   "cell_type": "markdown",
   "metadata": {},
   "source": [
    "**Observations**:\n",
    "1. **x3**: This variable refers to dayofweek, but it contains two sets of values that needs to be hormonized. For example, \"Monday\" and \"Mon\" both refer to \"Monday\".\n",
    "2. **x7**: This variable contains percent values and should be transformed to numeric data type.\n",
    "3. **x19**: This variable contains dollar values and should be transformed to numeric data type.\n",
    "4. **x24**: This variable contains gender information and can be treated as a categorical feature.\n",
    "5. **x31**: This variable contains boolean values.\n",
    "6. **x33**: This variable contains geographic information (i.e., states) and can be treated as a categorical feature.\n",
    "7. **x39**: This variable only contains one value (\"5-10 miles\" for all 40000 records). Therefore, it should be removed before building models due to zero variability.\n",
    "8. **x60**: This variable refers to monthofyear and can be treated as a categorical feature.\n",
    "9. **x65**: This variable refers to the insurance provider and can be treated as a categorical feature.\n",
    "10. **x77**: This variable refers to the automobile manufacturer and can be treated as a categorical feature.\n",
    "11. **x93**: This variable contains boolean values.\n",
    "12. **x99**: This variable contains \"yes\" for 27164 records. The missing values may need to be treated as a new level such as \"unknown\"."
   ]
  },
  {
   "cell_type": "code",
   "execution_count": 516,
   "metadata": {},
   "outputs": [],
   "source": [
    "# Check missing values\n",
    "\n",
    "def calculate_missing_perc(df):\n",
    "    '''\n",
    "    function: check the percentage of missing value of each column in a dataframe\n",
    "    input: dataframe\n",
    "    output: dataframe\n",
    "    '''\n",
    "    missing_values_count = pd.DataFrame({'Null':df.isnull().sum()})\n",
    "    total = len(df)\n",
    "    percentage_null = round((missing_values_count['Null']/total)*100,1)\n",
    "    missing_values_count['Percentage'] = percentage_null\n",
    "    missing_df = missing_values_count.sort_values(by='Null', ascending=False)\n",
    "    \n",
    "    # Only show the columns that have missing values\n",
    "    missing_df = missing_df[missing_df['Null']>0]\n",
    "\n",
    "    return missing_df\n",
    "\n",
    "def plot_missing_perc(df):\n",
    "    '''\n",
    "    function: plot the percentage of missing value of each column in a dataframe\n",
    "    input: dataframe\n",
    "    output: barplot\n",
    "    '''    \n",
    "    plt.figure(figsize=(15,5))\n",
    "    plt.bar(x=df.index, height=df['Percentage'])\n",
    "    plt.ylabel('Percentage of missing values')\n",
    "    plt.xticks(rotation=45)\n",
    "    plt.show()"
   ]
  },
  {
   "cell_type": "code",
   "execution_count": 517,
   "metadata": {},
   "outputs": [
    {
     "data": {
      "image/png": "[encoded data removed]",
      "text/plain": [
       "<Figure size 1080x360 with 1 Axes>"
      ]
     },
     "metadata": {},
     "output_type": "display_data"
    }
   ],
   "source": [
    "df_missing = calculate_missing_perc(train_raw)\n",
    "plot_missing_perc(df_missing)"
   ]
  },
  {
   "cell_type": "markdown",
   "metadata": {},
   "source": [
    "**Observations**: less than 0.2 percent of independent data are missing in data set. It might not make difference interm of modeling. For project skill demonstration, missing value will be handled in the EDA and feature engineering section."
   ]
  },
  {
   "cell_type": "markdown",
   "metadata": {},
   "source": [
    "## Test dataset"
   ]
  },
  {
   "cell_type": "code",
   "execution_count": 518,
   "metadata": {},
   "outputs": [
    {
     "data": {
      "text/html": [
       "<div>\n",
       "<style scoped>\n",
       "    .dataframe tbody tr th:only-of-type {\n",
       "        vertical-align: middle;\n",
       "    }\n",
       "\n",
       "    .dataframe tbody tr th {\n",
       "        vertical-align: top;\n",
       "    }\n",
       "\n",
       "    .dataframe thead th {\n",
       "        text-align: right;\n",
       "    }\n",
       "</style>\n",
       "<table border=\"1\" class=\"dataframe\">\n",
       "  <thead>\n",
       "    <tr style=\"text-align: right;\">\n",
       "      <th></th>\n",
       "      <th>Time</th>\n",
       "      <th>CellName</th>\n",
       "      <th>PRBUsageUL</th>\n",
       "      <th>PRBUsageDL</th>\n",
       "      <th>meanThr_DL</th>\n",
       "      <th>meanThr_UL</th>\n",
       "      <th>maxThr_DL</th>\n",
       "      <th>maxThr_UL</th>\n",
       "      <th>meanUE_DL</th>\n",
       "      <th>meanUE_UL</th>\n",
       "      <th>maxUE_DL</th>\n",
       "      <th>maxUE_UL</th>\n",
       "      <th>maxUE_UL+DL</th>\n",
       "    </tr>\n",
       "  </thead>\n",
       "  <tbody>\n",
       "    <tr>\n",
       "      <th>0</th>\n",
       "      <td>3:00</td>\n",
       "      <td>6ALTE</td>\n",
       "      <td>3.781</td>\n",
       "      <td>1.493</td>\n",
       "      <td>0.575</td>\n",
       "      <td>0.042</td>\n",
       "      <td>22.659</td>\n",
       "      <td>0.743</td>\n",
       "      <td>0.985</td>\n",
       "      <td>0.010</td>\n",
       "      <td>3.0</td>\n",
       "      <td>2.0</td>\n",
       "      <td>5.0</td>\n",
       "    </tr>\n",
       "    <tr>\n",
       "      <th>1</th>\n",
       "      <td>20:30</td>\n",
       "      <td>6ULTE</td>\n",
       "      <td>2.021</td>\n",
       "      <td>3.335</td>\n",
       "      <td>0.569</td>\n",
       "      <td>0.075</td>\n",
       "      <td>29.265</td>\n",
       "      <td>1.049</td>\n",
       "      <td>1.314</td>\n",
       "      <td>0.010</td>\n",
       "      <td>6.0</td>\n",
       "      <td>3.0</td>\n",
       "      <td>9.0</td>\n",
       "    </tr>\n",
       "    <tr>\n",
       "      <th>2</th>\n",
       "      <td>11:30</td>\n",
       "      <td>2ALTE</td>\n",
       "      <td>0.505</td>\n",
       "      <td>0.404</td>\n",
       "      <td>0.014</td>\n",
       "      <td>0.010</td>\n",
       "      <td>0.227</td>\n",
       "      <td>0.097</td>\n",
       "      <td>1.011</td>\n",
       "      <td>0.010</td>\n",
       "      <td>2.0</td>\n",
       "      <td>1.0</td>\n",
       "      <td>3.0</td>\n",
       "    </tr>\n",
       "    <tr>\n",
       "      <th>3</th>\n",
       "      <td>6:45</td>\n",
       "      <td>3CLTE</td>\n",
       "      <td>1.011</td>\n",
       "      <td>0.505</td>\n",
       "      <td>0.238</td>\n",
       "      <td>0.021</td>\n",
       "      <td>20.962</td>\n",
       "      <td>0.609</td>\n",
       "      <td>1.011</td>\n",
       "      <td>1.011</td>\n",
       "      <td>2.0</td>\n",
       "      <td>1.0</td>\n",
       "      <td>3.0</td>\n",
       "    </tr>\n",
       "    <tr>\n",
       "      <th>4</th>\n",
       "      <td>15:45</td>\n",
       "      <td>6CLTE</td>\n",
       "      <td>3.881</td>\n",
       "      <td>0.498</td>\n",
       "      <td>0.076</td>\n",
       "      <td>0.041</td>\n",
       "      <td>3.936</td>\n",
       "      <td>1.768</td>\n",
       "      <td>1.025</td>\n",
       "      <td>0.010</td>\n",
       "      <td>3.0</td>\n",
       "      <td>2.0</td>\n",
       "      <td>5.0</td>\n",
       "    </tr>\n",
       "  </tbody>\n",
       "</table>\n",
       "</div>"
      ],
      "text/plain": [
       "    Time CellName  PRBUsageUL  PRBUsageDL  meanThr_DL  meanThr_UL  maxThr_DL  \\\n",
       "0   3:00    6ALTE       3.781       1.493       0.575       0.042     22.659   \n",
       "1  20:30    6ULTE       2.021       3.335       0.569       0.075     29.265   \n",
       "2  11:30    2ALTE       0.505       0.404       0.014       0.010      0.227   \n",
       "3   6:45    3CLTE       1.011       0.505       0.238       0.021     20.962   \n",
       "4  15:45    6CLTE       3.881       0.498       0.076       0.041      3.936   \n",
       "\n",
       "   maxThr_UL  meanUE_DL  meanUE_UL  maxUE_DL  maxUE_UL  maxUE_UL+DL  \n",
       "0      0.743      0.985      0.010       3.0       2.0          5.0  \n",
       "1      1.049      1.314      0.010       6.0       3.0          9.0  \n",
       "2      0.097      1.011      0.010       2.0       1.0          3.0  \n",
       "3      0.609      1.011      1.011       2.0       1.0          3.0  \n",
       "4      1.768      1.025      0.010       3.0       2.0          5.0  "
      ]
     },
     "execution_count": 518,
     "metadata": {},
     "output_type": "execute_result"
    }
   ],
   "source": [
    "# Load test data\n",
    "test = pd.read_csv('ML-MATT-CompetitionQT1920_test.csv')\n",
    "test.head()"
   ]
  },
  {
   "cell_type": "code",
   "execution_count": 519,
   "metadata": {},
   "outputs": [
    {
     "name": "stdout",
     "output_type": "stream",
     "text": [
      "<class 'pandas.core.frame.DataFrame'>\n",
      "RangeIndex: 9158 entries, 0 to 9157\n",
      "Data columns (total 13 columns):\n",
      " #   Column       Non-Null Count  Dtype  \n",
      "---  ------       --------------  -----  \n",
      " 0   Time         9158 non-null   object \n",
      " 1   CellName     9158 non-null   object \n",
      " 2   PRBUsageUL   9158 non-null   float64\n",
      " 3   PRBUsageDL   9158 non-null   float64\n",
      " 4   meanThr_DL   9158 non-null   float64\n",
      " 5   meanThr_UL   9158 non-null   float64\n",
      " 6   maxThr_DL    9158 non-null   float64\n",
      " 7   maxThr_UL    9158 non-null   float64\n",
      " 8   meanUE_DL    9158 non-null   float64\n",
      " 9   meanUE_UL    9158 non-null   float64\n",
      " 10  maxUE_DL     9156 non-null   float64\n",
      " 11  maxUE_UL     9156 non-null   float64\n",
      " 12  maxUE_UL+DL  9156 non-null   float64\n",
      "dtypes: float64(11), object(2)\n",
      "memory usage: 930.2+ KB\n"
     ]
    }
   ],
   "source": [
    "# Shape and data type\n",
    "test.info()"
   ]
  },
  {
   "cell_type": "markdown",
   "metadata": {},
   "source": [
    "# Exploratory data analysis and feature engineering"
   ]
  },
  {
   "cell_type": "markdown",
   "metadata": {},
   "source": [
    "__Review of names__\n",
    "(see the long names in \"Name Abbreviations HAI_Names_ID_xref.csv)\n",
    "\n",
    "HAI_5 is for MRSA Bacteremia\n",
    "\n",
    "| Short name | Description |\n",
    "| :-- | :-- |\n",
    "| HAI_5_CILOWER\t| Lower Confidence Limit |\n",
    "| HAI_5_CIUPPER\t| Upper Confidence Limit | \n",
    "| HAI_5_DOPC\t| Patient Days |\n",
    "| HAI_5_ELIGCASES\t|  Predicted Cases |\n",
    "| HAI_5_NUMERATOR\t|  Observed Cases |\n",
    "| HAI_5_SIR\t|  |"
   ]
  },
  {
   "cell_type": "markdown",
   "metadata": {},
   "source": [
    "plt.rcParams.update({'font.size': 8})\n",
    "fig = plt.figure(figsize = (10,10))\n",
    "ax = fig.gca()\n",
    "X_raw.hist(ax = ax)\n",
    "\n",
    "plt.show()"
   ]
  },
  {
   "cell_type": "markdown",
   "metadata": {},
   "source": [
    "plt.figure(figsize=(16, 7))\n",
    "X_raw_box=X_raw[['maxUE_DL', 'maxUE_UL']]\n",
    "sns.boxplot(data=X_raw_box,palette='winter')"
   ]
  },
  {
   "cell_type": "markdown",
   "metadata": {},
   "source": [
    "**Note** univariate boxplot shows large portion of outliers in independent vairables. will be handled in feature engineering, standarization and modeling method selection"
   ]
  },
  {
   "cell_type": "code",
   "execution_count": 520,
   "metadata": {},
   "outputs": [],
   "source": [
    "# Build a class to select features\n",
    "class FeatureSelector(BaseEstimator, TransformerMixin):\n",
    "    \"\"\"Sklearn transformer object to select certain columns\n",
    "    \"\"\"\n",
    "    def __init__(self, feature_names):\n",
    "        self.feature_names = feature_names\n",
    "        \n",
    "    def fit(self, X, y=None):\n",
    "        return self\n",
    "    \n",
    "    def transform(self, X, y=None):\n",
    "        return X[self.feature_names]\n",
    "\n",
    "    def get_feature_names(self):\n",
    "        return self.feature_names"
   ]
  },
  {
   "cell_type": "markdown",
   "metadata": {},
   "source": [
    "## Numerical features"
   ]
  },
  {
   "cell_type": "code",
   "execution_count": 521,
   "metadata": {},
   "outputs": [],
   "source": [
    "# obj2time_features = ['Time']\n",
    "# obj2str_features = ['CellName']\n",
    "removed_num_features = []\n",
    "# df_num_features = float_v + obj2num_features\n",
    "df_num_features = float_v"
   ]
  },
  {
   "cell_type": "markdown",
   "metadata": {},
   "source": [
    "#1. imputation with median\n",
    "def impute_nan_median(df,variable,median,extreme):\n",
    "    '''\n",
    "    impute nan with median of the variable\n",
    "    '''\n",
    "    df[variable+\"_end_distribution\"]=df[variable].fillna(extreme)\n",
    "    df[variable].fillna(median,inplace=True)\n"
   ]
  },
  {
   "cell_type": "code",
   "execution_count": 522,
   "metadata": {},
   "outputs": [],
   "source": [
    "#2. random sample imputation\n",
    "def impute_nan_random(df,variable,median):\n",
    "    '''\n",
    "    Random sample imputation consists of taking random observation from the dataset \n",
    "    and we use this observation to replace the nan values\n",
    "    '''\n",
    "    df[variable+\"_median\"]=df[variable].fillna(median)\n",
    "    df[variable+\"_random\"]=df[variable]\n",
    "    ##It will have the random sample to fill the na\n",
    "    random_sample=df[variable].dropna().sample(df[variable].isnull().sum(),random_state=0)\n",
    "    ##pandas need to have same index in order to merge the dataset\n",
    "    random_sample.index=df[df[variable].isnull()].index\n",
    "    df.loc[df[variable].isnull(),variable+'_random']=random_sample"
   ]
  },
  {
   "cell_type": "markdown",
   "metadata": {},
   "source": [
    "X_raw.isnull().sum()"
   ]
  },
  {
   "cell_type": "markdown",
   "metadata": {
    "scrolled": true
   },
   "source": [
    "#3. imputation median\n",
    "def impute_median(X):\n",
    "        features=['maxUE_DL', 'maxUE_UL']\n",
    "        for feature in features:\n",
    "            if feature in X.columns:\n",
    "                extreme=X[feature].mean()+3*X[feature].std()\n",
    "                impute_nan_median(X, feature, X[feature].median, extreme)\n",
    "                X.drop([feature+'_end_distribution'], axis=1, inplace=True) \n",
    "impute_median(X_raw)"
   ]
  },
  {
   "cell_type": "markdown",
   "metadata": {},
   "source": [
    "X_raw.loc[X_raw['maxUE_DL'].isnull()]"
   ]
  },
  {
   "cell_type": "markdown",
   "metadata": {},
   "source": [
    "\n",
    "impute_nan_random(X_raw, 'maxUE_DL', X_raw.maxUE_DL.median)"
   ]
  },
  {
   "cell_type": "markdown",
   "metadata": {},
   "source": [
    "#3 linear imputation\n",
    "def impute_nan_linear(df,variable):\n",
    "    '''\n",
    "    imputation by linear interpolation of rows above and below\n",
    "    '''\n",
    "    df[variable].interpolate(method='linear', limit_direction='forward', axis=0)"
   ]
  },
  {
   "cell_type": "markdown",
   "metadata": {},
   "source": [
    "impute_nan_linear(X_raw, 'maxUE_DL')"
   ]
  },
  {
   "cell_type": "code",
   "execution_count": null,
   "metadata": {},
   "outputs": [],
   "source": [
    "# Build a class to for feature engineering\n",
    "class numeric_transformer(BaseEstimator, TransformerMixin):\n",
    "    \"\"\"Sklearn transformer object to transform string values to numeric values\n",
    "    \"\"\"\n",
    "    def __init__(self): \n",
    "        pass\n",
    "\n",
    "    def fit(self, X, y=None):\n",
    "        return self\n",
    "    \n",
    "    def transform(self, X, y=None):\n",
    "\n",
    "# Missing value handleing\n",
    "\n",
    "        # 1.imuputation:  fill with median \n",
    "        # Sensitivity Test\n",
    "        features=['maxUE_DL', 'maxUE_UL']\n",
    "        for feature in features:\n",
    "            if feature in X.columns:\n",
    "                extreme=X[feature].mean()+3*X[feature].std()\n",
    "                X[feature+\"_end_distribution\"]=X[feature].fillna(extreme)\n",
    "                X[feature].fillna(X[feature].median(),inplace=True)\n",
    "                X.drop([feature+'_end_distribution'], axis=1, inplace=True) \n",
    "\n",
    "        # 2. imuputation: fill with distribution\n",
    "        # Sensitivity Test\n",
    "        features=['maxUE_DL', 'maxUE_UL']\n",
    "        for feature in features:\n",
    "            if feature in X.columns:\n",
    "                random_sample=X[feature].dropna().sample(X[feature].isnull().sum(),random_state=0)\n",
    "                ##pandas need to have same index in order to merge the dataset\n",
    "                random_sample.index=X[X[feature].isnull()].index\n",
    "                X.loc[X[feature].isnull(),feature]=random_sample\n",
    "        \n",
    "        #3. outliers treatment sensitivity: \n",
    "        #Observation: AUC for training data are the same and for test data AUC decrease 0.9012 to 0.9009\n",
    "        for feature in float_v:\n",
    "            upperbound=X[feature].quantile(0.999)\n",
    "            X.loc[(X[feature]>upperbound),feature]=upperbound\n",
    "\n",
    "        # log transformation of few features\n",
    "          features=['PRBUsageUL', 'PRBUsageDL', 'meanThr_DL','meanThr_UL', 'maxThr_DL', 'maxThr_UL', 'meanUE_DL', 'meanUE_UL',]\n",
    "\n",
    "        for feature in features:\n",
    "            if feature in X.columns:\n",
    "                  X_raw[feature]=X_raw[feature].apply(lambda x: np.log(x+1))\n",
    "        self.X = X\n",
    "        return self.X\n",
    "\n",
    "    def get_feature_names(self):\n",
    "        return self.X.columns.tolist()"
   ]
  },
  {
   "cell_type": "code",
   "execution_count": 523,
   "metadata": {},
   "outputs": [],
   "source": [
    "# Build a class to transform \"x7\" and \"x19\" to numeric values\n",
    "class numeric_transformer(BaseEstimator, TransformerMixin):\n",
    "    \"\"\"Sklearn transformer object to transform string values to numeric values\n",
    "    \"\"\"\n",
    "    def __init__(self): \n",
    "        pass\n",
    "\n",
    "    def fit(self, X, y=None):\n",
    "        return self\n",
    "    \n",
    "    #1. imputation with median\n",
    "#     def impute_nan_median(X,feature,median,extreme):\n",
    "#         '''\n",
    "#         impute nan with median of the feature\n",
    "#         '''\n",
    "#         X[feature+\"_end_distribution\"]=X[feature].fillna(extreme)\n",
    "#         X[feature].fillna(median,inplace=True)\n",
    "    \n",
    "    def transform(self, X, y=None):\n",
    "#         X_copy = X.copy()\n",
    "#         if 'x7' in X.columns:\n",
    "#             X_copy['x7'] = X_copy['x7'].map(\n",
    "#                 lambda x: float(x.strip('%'))/100 if type(x)==str else x, na_action='ignore')\n",
    "#         if 'x19' in X.columns:\n",
    "#             X_copy['x19'] = X_copy['x19'].map(\n",
    "#                 lambda x: float(x.strip('$')) if type(x)==str else x, na_action='ignore')  \n",
    "# Missing value handleing\n",
    "\n",
    "        # imuputation 1:  fill with median 2. fill with distribution\n",
    "        # Sensitivity Test\n",
    "#         features=['maxUE_DL', 'maxUE_UL']\n",
    "#         for feature in features:\n",
    "#             if feature in X.columns:\n",
    "#                 extreme=X[feature].mean()+3*X[feature].std()\n",
    "#                 X[feature+\"_end_distribution\"]=X[feature].fillna(extreme)\n",
    "#                 X[feature].fillna(X[feature].median(),inplace=True)\n",
    "#                 X.drop([feature+'_end_distribution'], axis=1, inplace=True) \n",
    "        # imuputation 2: use forward imputation 2. fill with median 3. fill with distribution\n",
    "        # Sensitivity Test\n",
    "        features=['maxUE_DL', 'maxUE_UL']\n",
    "        for feature in features:\n",
    "            if feature in X.columns:\n",
    "#                 X[feature+\"_median\"]=X[feature].fillna(X[feature].median())\n",
    "#                 X[feature+\"_random\"]=X[feature]\n",
    "                ##It will have the random sample to fill the na\n",
    "                random_sample=X[feature].dropna().sample(X[feature].isnull().sum(),random_state=0)\n",
    "                ##pandas need to have same index in order to merge the dataset\n",
    "                random_sample.index=X[X[feature].isnull()].index\n",
    "                X.loc[X[feature].isnull(),feature]=random_sample\n",
    "        \n",
    "        #outliers treatment sensitivity: \n",
    "        #Observation: AUC for training data are the same and for test data AUC decrease 0.9012 to 0.9009\n",
    "#         for feature in float_v:\n",
    "#             upperbound=X[feature].quantile(0.999)\n",
    "#             X.loc[(X[feature]>upperbound),feature]=upperbound\n",
    "\n",
    "        # log transformation of few features\n",
    "    \n",
    "        \n",
    "\n",
    "\n",
    "        features=['PRBUsageUL', 'PRBUsageDL', 'meanThr_DL','meanThr_UL', 'maxThr_DL', 'maxThr_UL', 'meanUE_DL', 'meanUE_UL',]\n",
    "\n",
    "        for feature in features:\n",
    "            if feature in X.columns:\n",
    "                  X_raw[feature]=X_raw[feature].apply(lambda x: np.log(x+1))\n",
    "\n",
    "\n",
    "        self.X = X\n",
    "        return self.X\n",
    "\n",
    "    def get_feature_names(self):\n",
    "        return self.X.columns.tolist()"
   ]
  },
  {
   "cell_type": "code",
   "execution_count": 524,
   "metadata": {},
   "outputs": [
    {
     "data": {
      "text/html": [
       "<div>\n",
       "<style scoped>\n",
       "    .dataframe tbody tr th:only-of-type {\n",
       "        vertical-align: middle;\n",
       "    }\n",
       "\n",
       "    .dataframe tbody tr th {\n",
       "        vertical-align: top;\n",
       "    }\n",
       "\n",
       "    .dataframe thead th {\n",
       "        text-align: right;\n",
       "    }\n",
       "</style>\n",
       "<table border=\"1\" class=\"dataframe\">\n",
       "  <thead>\n",
       "    <tr style=\"text-align: right;\">\n",
       "      <th></th>\n",
       "      <th>PRBUsageUL</th>\n",
       "      <th>PRBUsageDL</th>\n",
       "      <th>meanThr_DL</th>\n",
       "      <th>meanThr_UL</th>\n",
       "      <th>maxThr_DL</th>\n",
       "      <th>maxThr_UL</th>\n",
       "      <th>meanUE_DL</th>\n",
       "      <th>meanUE_UL</th>\n",
       "      <th>maxUE_DL</th>\n",
       "      <th>maxUE_UL</th>\n",
       "    </tr>\n",
       "  </thead>\n",
       "  <tbody>\n",
       "    <tr>\n",
       "      <th>0</th>\n",
       "      <td>11.642</td>\n",
       "      <td>1.393</td>\n",
       "      <td>0.370</td>\n",
       "      <td>0.041</td>\n",
       "      <td>15.655</td>\n",
       "      <td>0.644</td>\n",
       "      <td>1.114</td>\n",
       "      <td>1.025</td>\n",
       "      <td>4.0</td>\n",
       "      <td>3.0</td>\n",
       "    </tr>\n",
       "    <tr>\n",
       "      <th>1</th>\n",
       "      <td>21.791</td>\n",
       "      <td>1.891</td>\n",
       "      <td>0.537</td>\n",
       "      <td>0.268</td>\n",
       "      <td>10.273</td>\n",
       "      <td>1.154</td>\n",
       "      <td>1.353</td>\n",
       "      <td>1.085</td>\n",
       "      <td>6.0</td>\n",
       "      <td>4.0</td>\n",
       "    </tr>\n",
       "    <tr>\n",
       "      <th>2</th>\n",
       "      <td>0.498</td>\n",
       "      <td>0.398</td>\n",
       "      <td>0.015</td>\n",
       "      <td>0.010</td>\n",
       "      <td>0.262</td>\n",
       "      <td>0.164</td>\n",
       "      <td>0.995</td>\n",
       "      <td>0.995</td>\n",
       "      <td>1.0</td>\n",
       "      <td>1.0</td>\n",
       "    </tr>\n",
       "    <tr>\n",
       "      <th>3</th>\n",
       "      <td>1.891</td>\n",
       "      <td>1.095</td>\n",
       "      <td>0.940</td>\n",
       "      <td>0.024</td>\n",
       "      <td>60.715</td>\n",
       "      <td>0.825</td>\n",
       "      <td>1.035</td>\n",
       "      <td>0.995</td>\n",
       "      <td>2.0</td>\n",
       "      <td>2.0</td>\n",
       "    </tr>\n",
       "    <tr>\n",
       "      <th>4</th>\n",
       "      <td>0.303</td>\n",
       "      <td>0.404</td>\n",
       "      <td>0.016</td>\n",
       "      <td>0.013</td>\n",
       "      <td>0.348</td>\n",
       "      <td>0.168</td>\n",
       "      <td>1.011</td>\n",
       "      <td>1.011</td>\n",
       "      <td>2.0</td>\n",
       "      <td>1.0</td>\n",
       "    </tr>\n",
       "  </tbody>\n",
       "</table>\n",
       "</div>"
      ],
      "text/plain": [
       "   PRBUsageUL  PRBUsageDL  meanThr_DL  meanThr_UL  maxThr_DL  maxThr_UL  \\\n",
       "0      11.642       1.393       0.370       0.041     15.655      0.644   \n",
       "1      21.791       1.891       0.537       0.268     10.273      1.154   \n",
       "2       0.498       0.398       0.015       0.010      0.262      0.164   \n",
       "3       1.891       1.095       0.940       0.024     60.715      0.825   \n",
       "4       0.303       0.404       0.016       0.013      0.348      0.168   \n",
       "\n",
       "   meanUE_DL  meanUE_UL  maxUE_DL  maxUE_UL  \n",
       "0      1.114      1.025       4.0       3.0  \n",
       "1      1.353      1.085       6.0       4.0  \n",
       "2      0.995      0.995       1.0       1.0  \n",
       "3      1.035      0.995       2.0       2.0  \n",
       "4      1.011      1.011       2.0       1.0  "
      ]
     },
     "execution_count": 524,
     "metadata": {},
     "output_type": "execute_result"
    }
   ],
   "source": [
    "# Create a dataframe df_num for all numerical features\n",
    "num_tfm = Pipeline(steps=[\n",
    "    ('num_selector', FeatureSelector(df_num_features)),\n",
    "    ('obj2num_tfm', numeric_transformer())\n",
    "])\n",
    "\n",
    "df_num = num_tfm.fit_transform(X_raw)\n",
    "df_num.head()"
   ]
  },
  {
   "cell_type": "code",
   "execution_count": 525,
   "metadata": {},
   "outputs": [
    {
     "data": {
      "text/plain": [
       "PRBUsageUL    0\n",
       "PRBUsageDL    0\n",
       "meanThr_DL    0\n",
       "meanThr_UL    0\n",
       "maxThr_DL     0\n",
       "maxThr_UL     0\n",
       "meanUE_DL     0\n",
       "meanUE_UL     0\n",
       "maxUE_DL      0\n",
       "maxUE_UL      0\n",
       "dtype: int64"
      ]
     },
     "execution_count": 525,
     "metadata": {},
     "output_type": "execute_result"
    }
   ],
   "source": [
    "df_num.isnull().sum()"
   ]
  },
  {
   "cell_type": "markdown",
   "metadata": {},
   "source": [
    "### Variability"
   ]
  },
  {
   "cell_type": "code",
   "execution_count": 526,
   "metadata": {},
   "outputs": [
    {
     "data": {
      "text/html": [
       "<div>\n",
       "<style scoped>\n",
       "    .dataframe tbody tr th:only-of-type {\n",
       "        vertical-align: middle;\n",
       "    }\n",
       "\n",
       "    .dataframe tbody tr th {\n",
       "        vertical-align: top;\n",
       "    }\n",
       "\n",
       "    .dataframe thead th {\n",
       "        text-align: right;\n",
       "    }\n",
       "</style>\n",
       "<table border=\"1\" class=\"dataframe\">\n",
       "  <thead>\n",
       "    <tr style=\"text-align: right;\">\n",
       "      <th></th>\n",
       "      <th>Feature</th>\n",
       "      <th>RelativeDeviation</th>\n",
       "    </tr>\n",
       "  </thead>\n",
       "  <tbody>\n",
       "    <tr>\n",
       "      <th>6</th>\n",
       "      <td>meanUE_DL</td>\n",
       "      <td>0.173988</td>\n",
       "    </tr>\n",
       "    <tr>\n",
       "      <th>8</th>\n",
       "      <td>maxUE_DL</td>\n",
       "      <td>0.418585</td>\n",
       "    </tr>\n",
       "    <tr>\n",
       "      <th>9</th>\n",
       "      <td>maxUE_UL</td>\n",
       "      <td>0.448220</td>\n",
       "    </tr>\n",
       "    <tr>\n",
       "      <th>7</th>\n",
       "      <td>meanUE_UL</td>\n",
       "      <td>0.801720</td>\n",
       "    </tr>\n",
       "    <tr>\n",
       "      <th>4</th>\n",
       "      <td>maxThr_DL</td>\n",
       "      <td>0.880310</td>\n",
       "    </tr>\n",
       "  </tbody>\n",
       "</table>\n",
       "</div>"
      ],
      "text/plain": [
       "     Feature  RelativeDeviation\n",
       "6  meanUE_DL           0.173988\n",
       "8   maxUE_DL           0.418585\n",
       "9   maxUE_UL           0.448220\n",
       "7  meanUE_UL           0.801720\n",
       "4  maxThr_DL           0.880310"
      ]
     },
     "execution_count": 526,
     "metadata": {},
     "output_type": "execute_result"
    }
   ],
   "source": [
    "# Check low variability features\n",
    "\n",
    "s = pd.Series(df_num.describe().loc['std',:]\\\n",
    "    /df_num.describe().loc['mean',:], name='RelativeDeviation',\n",
    "              index=pd.Index(df_num.columns, name='Feature'))\n",
    "df_variabiblity = s.reset_index()\n",
    "df_variabiblity.sort_values(by='RelativeDeviation',key=abs, inplace=True)\n",
    "df_variabiblity.head()"
   ]
  },
  {
   "cell_type": "markdown",
   "metadata": {},
   "source": [
    "**Note**: 'x16' and 'x41' showed very low variabilbity. These features will not be used for building models. "
   ]
  },
  {
   "cell_type": "code",
   "execution_count": 527,
   "metadata": {},
   "outputs": [
    {
     "name": "stdout",
     "output_type": "stream",
     "text": [
      "Remaining numerical features: ['maxThr_DL', 'meanUE_UL', 'meanUE_DL', 'PRBUsageDL', 'meanThr_UL', 'maxThr_UL', 'maxUE_DL', 'maxUE_UL', 'meanThr_DL', 'PRBUsageUL']\n"
     ]
    }
   ],
   "source": [
    "# removed_num_features.extend(['x16', 'x41'])\n",
    "# remain_num_features = list(set(df_num_features)-set(removed_num_features))\n",
    "remain_num_features = list(set(df_num_features))\n",
    "# print('Removed numerical features:', removed_num_features)\n",
    "print('Remaining numerical features:', remain_num_features)"
   ]
  },
  {
   "cell_type": "markdown",
   "metadata": {},
   "source": [
    "### Missing values "
   ]
  },
  {
   "cell_type": "code",
   "execution_count": 528,
   "metadata": {},
   "outputs": [
    {
     "data": {
      "image/png": "[encoded data removed]",
      "text/plain": [
       "<Figure size 1080x360 with 1 Axes>"
      ]
     },
     "metadata": {},
     "output_type": "display_data"
    }
   ],
   "source": [
    "# Check missing values\n",
    "df_missing = calculate_missing_perc(df_num)\n",
    "plot_missing_perc(df_missing)"
   ]
  },
  {
   "cell_type": "markdown",
   "metadata": {},
   "source": [
    "**Note**: 'MAXUE_DL' and 'MAXUE_UL' showed 0.20% of missing value and will be imputed before modeling. "
   ]
  },
  {
   "cell_type": "code",
   "execution_count": 529,
   "metadata": {},
   "outputs": [
    {
     "name": "stdout",
     "output_type": "stream",
     "text": [
      "Remaining numerical features: ['maxThr_DL', 'meanUE_UL', 'meanUE_DL', 'PRBUsageDL', 'meanThr_UL', 'maxThr_UL', 'maxUE_DL', 'maxUE_UL', 'meanThr_DL', 'PRBUsageUL']\n"
     ]
    }
   ],
   "source": [
    "# removed_num_features.extend(['x44', 'x57', 'x30'])\n",
    "# remain_num_features = list(set(df_num_features)-set(removed_num_features))\n",
    "remain_num_features = list(set(df_num_features))\n",
    "# print('Removed numerical features:', removed_num_features)\n",
    "print('Remaining numerical features:', remain_num_features)"
   ]
  },
  {
   "cell_type": "markdown",
   "metadata": {},
   "source": [
    "### Multicollinearity"
   ]
  },
  {
   "cell_type": "code",
   "execution_count": 530,
   "metadata": {},
   "outputs": [
    {
     "data": {
      "text/plain": [
       "<AxesSubplot:>"
      ]
     },
     "execution_count": 530,
     "metadata": {},
     "output_type": "execute_result"
    },
    {
     "data": {
      "image/png": "[encoded data removed]",
      "text/plain": [
       "<Figure size 1296x1080 with 2 Axes>"
      ]
     },
     "metadata": {},
     "output_type": "display_data"
    }
   ],
   "source": [
    "# Visualize the correlations among the numerical features\n",
    "# figure(figsize=(20, 20), dpi=60)\n",
    "# sns.heatmap(df_num[remain_num_features].corr(method='pearson'), annot=False,\n",
    "#            cmap='coolwarm')\n",
    "# plt.title('Heatmap of the numerical features', fontsize=15)\n",
    "# plt.rc('xtick',labelsize=10)\n",
    "# plt.rc('ytick',labelsize=10)\n",
    "# plt.show()\n",
    " #plot heatmap mask half\n",
    "#Set and compute the Correlation Matrix:\n",
    "\n",
    "sns.set(style=\"white\")\n",
    "corr = df_num[remain_num_features].corr()\n",
    "\n",
    "#Generate a mask for the upper triangle:\n",
    "mask = np.zeros_like(corr, dtype=np.bool)\n",
    "mask[np.triu_indices_from(mask)] = True\n",
    "#Set up the matplotlib figure and a diverging colormap:\n",
    "f, ax = plt.subplots(figsize=(18, 15))\n",
    "cmap = sns.diverging_palette(220, 10, as_cmap=True)\n",
    "#Draw the heatmap with the mask and correct aspect ratio:\n",
    "sns.heatmap(corr, mask=mask, cmap=cmap, vmax=.9, center=0, annot=True, \n",
    "square=True, linewidths=.5, cbar_kws={\"shrink\": .5})"
   ]
  },
  {
   "cell_type": "markdown",
   "metadata": {},
   "source": [
    "**Note**: Multicollinearity may be present among the numerical features. This issue can be addressed by modeling approaches such as regularization."
   ]
  },
  {
   "cell_type": "markdown",
   "metadata": {},
   "source": [
    "## Categorical features"
   ]
  },
  {
   "cell_type": "code",
   "execution_count": 531,
   "metadata": {},
   "outputs": [
    {
     "data": {
      "text/html": [
       "<div>\n",
       "<style scoped>\n",
       "    .dataframe tbody tr th:only-of-type {\n",
       "        vertical-align: middle;\n",
       "    }\n",
       "\n",
       "    .dataframe tbody tr th {\n",
       "        vertical-align: top;\n",
       "    }\n",
       "\n",
       "    .dataframe thead th {\n",
       "        text-align: right;\n",
       "    }\n",
       "</style>\n",
       "<table border=\"1\" class=\"dataframe\">\n",
       "  <thead>\n",
       "    <tr style=\"text-align: right;\">\n",
       "      <th></th>\n",
       "      <th>Time</th>\n",
       "      <th>CellName</th>\n",
       "      <th>PRBUsageUL</th>\n",
       "      <th>PRBUsageDL</th>\n",
       "      <th>meanThr_DL</th>\n",
       "      <th>meanThr_UL</th>\n",
       "      <th>maxThr_DL</th>\n",
       "      <th>maxThr_UL</th>\n",
       "      <th>meanUE_DL</th>\n",
       "      <th>meanUE_UL</th>\n",
       "      <th>maxUE_DL</th>\n",
       "      <th>maxUE_UL</th>\n",
       "      <th>maxUE_UL+DL</th>\n",
       "      <th>Unusual</th>\n",
       "    </tr>\n",
       "  </thead>\n",
       "  <tbody>\n",
       "    <tr>\n",
       "      <th>0</th>\n",
       "      <td>10:45</td>\n",
       "      <td>3BLTE</td>\n",
       "      <td>11.642</td>\n",
       "      <td>1.393</td>\n",
       "      <td>0.370</td>\n",
       "      <td>0.041</td>\n",
       "      <td>15.655</td>\n",
       "      <td>0.644</td>\n",
       "      <td>1.114</td>\n",
       "      <td>1.025</td>\n",
       "      <td>4.0</td>\n",
       "      <td>3.0</td>\n",
       "      <td>7</td>\n",
       "      <td>1</td>\n",
       "    </tr>\n",
       "    <tr>\n",
       "      <th>1</th>\n",
       "      <td>9:45</td>\n",
       "      <td>1BLTE</td>\n",
       "      <td>21.791</td>\n",
       "      <td>1.891</td>\n",
       "      <td>0.537</td>\n",
       "      <td>0.268</td>\n",
       "      <td>10.273</td>\n",
       "      <td>1.154</td>\n",
       "      <td>1.353</td>\n",
       "      <td>1.085</td>\n",
       "      <td>6.0</td>\n",
       "      <td>4.0</td>\n",
       "      <td>10</td>\n",
       "      <td>1</td>\n",
       "    </tr>\n",
       "    <tr>\n",
       "      <th>2</th>\n",
       "      <td>7:45</td>\n",
       "      <td>9BLTE</td>\n",
       "      <td>0.498</td>\n",
       "      <td>0.398</td>\n",
       "      <td>0.015</td>\n",
       "      <td>0.010</td>\n",
       "      <td>0.262</td>\n",
       "      <td>0.164</td>\n",
       "      <td>0.995</td>\n",
       "      <td>0.995</td>\n",
       "      <td>1.0</td>\n",
       "      <td>1.0</td>\n",
       "      <td>2</td>\n",
       "      <td>1</td>\n",
       "    </tr>\n",
       "    <tr>\n",
       "      <th>3</th>\n",
       "      <td>2:45</td>\n",
       "      <td>4ALTE</td>\n",
       "      <td>1.891</td>\n",
       "      <td>1.095</td>\n",
       "      <td>0.940</td>\n",
       "      <td>0.024</td>\n",
       "      <td>60.715</td>\n",
       "      <td>0.825</td>\n",
       "      <td>1.035</td>\n",
       "      <td>0.995</td>\n",
       "      <td>2.0</td>\n",
       "      <td>2.0</td>\n",
       "      <td>4</td>\n",
       "      <td>1</td>\n",
       "    </tr>\n",
       "    <tr>\n",
       "      <th>4</th>\n",
       "      <td>3:30</td>\n",
       "      <td>10BLTE</td>\n",
       "      <td>0.303</td>\n",
       "      <td>0.404</td>\n",
       "      <td>0.016</td>\n",
       "      <td>0.013</td>\n",
       "      <td>0.348</td>\n",
       "      <td>0.168</td>\n",
       "      <td>1.011</td>\n",
       "      <td>1.011</td>\n",
       "      <td>2.0</td>\n",
       "      <td>1.0</td>\n",
       "      <td>3</td>\n",
       "      <td>0</td>\n",
       "    </tr>\n",
       "  </tbody>\n",
       "</table>\n",
       "</div>"
      ],
      "text/plain": [
       "    Time CellName  PRBUsageUL  PRBUsageDL  meanThr_DL  meanThr_UL  maxThr_DL  \\\n",
       "0  10:45    3BLTE      11.642       1.393       0.370       0.041     15.655   \n",
       "1   9:45    1BLTE      21.791       1.891       0.537       0.268     10.273   \n",
       "2   7:45    9BLTE       0.498       0.398       0.015       0.010      0.262   \n",
       "3   2:45    4ALTE       1.891       1.095       0.940       0.024     60.715   \n",
       "4   3:30   10BLTE       0.303       0.404       0.016       0.013      0.348   \n",
       "\n",
       "   maxThr_UL  meanUE_DL  meanUE_UL  maxUE_DL  maxUE_UL maxUE_UL+DL  Unusual  \n",
       "0      0.644      1.114      1.025       4.0       3.0           7        1  \n",
       "1      1.154      1.353      1.085       6.0       4.0          10        1  \n",
       "2      0.164      0.995      0.995       1.0       1.0           2        1  \n",
       "3      0.825      1.035      0.995       2.0       2.0           4        1  \n",
       "4      0.168      1.011      1.011       2.0       1.0           3        0  "
      ]
     },
     "execution_count": 531,
     "metadata": {},
     "output_type": "execute_result"
    }
   ],
   "source": [
    "train_raw.head()"
   ]
  },
  {
   "cell_type": "code",
   "execution_count": 532,
   "metadata": {},
   "outputs": [],
   "source": [
    "###need to check\n",
    "from datetime import datetime\n",
    "from pytz import timezone\n",
    "import pytz\n",
    "\n",
    "import time\n",
    "t0 = time.time()"
   ]
  },
  {
   "cell_type": "code",
   "execution_count": 533,
   "metadata": {},
   "outputs": [
    {
     "data": {
      "text/plain": [
       "['maxUE_UL+DL', 'Time']"
      ]
     },
     "execution_count": 533,
     "metadata": {},
     "output_type": "execute_result"
    }
   ],
   "source": [
    "# df_cat_features = int_v + object_v\n",
    "df_cat_features = object_v\n",
    "removed_cat_features = []\n",
    "remain_cat_features = list(set(df_cat_features)-set(['CellName']))\n",
    "remain_cat_features"
   ]
  },
  {
   "cell_type": "code",
   "execution_count": 534,
   "metadata": {},
   "outputs": [],
   "source": [
    "# Build a class to transform \"x3\" to consistent dayofweek values\n",
    "class dayofweek_transformer(BaseEstimator, TransformerMixin):\n",
    "    def __init__(self): \n",
    "        pass\n",
    "\n",
    "    def fit(self, X, y=None):\n",
    "        return self\n",
    "    \n",
    "    def transform(self, X, y=None):\n",
    "        X_copy = X.copy()\n",
    "        if 'Time' in X.columns:\n",
    "            X_copy['Time']=pd.to_datetime(X_copy['Time'], format='%H:%M').dt.hour\n",
    "#               df['hour'] = pd.to_datetime(df['time'], format='%H:%M').dt.hour\n",
    "#             df['ts'] = df.datetime.astype('int64') // 10**9\n",
    "#             X[\"placed_order_hour\"]=X['placed_order_Timestamp_Pac'].dt.hour\n",
    "        self.df = X_copy\n",
    "        return self.df\n",
    "\n",
    "    def get_feature_names(self):\n",
    "        return self.df.columns.tolist()"
   ]
  },
  {
   "cell_type": "code",
   "execution_count": 535,
   "metadata": {},
   "outputs": [
    {
     "data": {
      "text/html": [
       "<div>\n",
       "<style scoped>\n",
       "    .dataframe tbody tr th:only-of-type {\n",
       "        vertical-align: middle;\n",
       "    }\n",
       "\n",
       "    .dataframe tbody tr th {\n",
       "        vertical-align: top;\n",
       "    }\n",
       "\n",
       "    .dataframe thead th {\n",
       "        text-align: right;\n",
       "    }\n",
       "</style>\n",
       "<table border=\"1\" class=\"dataframe\">\n",
       "  <thead>\n",
       "    <tr style=\"text-align: right;\">\n",
       "      <th></th>\n",
       "      <th>maxUE_UL+DL</th>\n",
       "      <th>Time</th>\n",
       "    </tr>\n",
       "  </thead>\n",
       "  <tbody>\n",
       "    <tr>\n",
       "      <th>0</th>\n",
       "      <td>7</td>\n",
       "      <td>10</td>\n",
       "    </tr>\n",
       "    <tr>\n",
       "      <th>1</th>\n",
       "      <td>10</td>\n",
       "      <td>9</td>\n",
       "    </tr>\n",
       "    <tr>\n",
       "      <th>2</th>\n",
       "      <td>2</td>\n",
       "      <td>7</td>\n",
       "    </tr>\n",
       "    <tr>\n",
       "      <th>3</th>\n",
       "      <td>4</td>\n",
       "      <td>2</td>\n",
       "    </tr>\n",
       "    <tr>\n",
       "      <th>4</th>\n",
       "      <td>3</td>\n",
       "      <td>3</td>\n",
       "    </tr>\n",
       "  </tbody>\n",
       "</table>\n",
       "</div>"
      ],
      "text/plain": [
       "  maxUE_UL+DL  Time\n",
       "0           7    10\n",
       "1          10     9\n",
       "2           2     7\n",
       "3           4     2\n",
       "4           3     3"
      ]
     },
     "execution_count": 535,
     "metadata": {},
     "output_type": "execute_result"
    }
   ],
   "source": [
    "# Create a dataframe df_cat for all categorical features\n",
    "\n",
    "cat_tfm = Pipeline(steps=[\n",
    "    ('cat_selector', FeatureSelector(remain_cat_features)),\n",
    "    ('dayofweek_tfm', dayofweek_transformer())    \n",
    "])\n",
    "\n",
    "df_cat = cat_tfm.fit_transform(X_raw)\n",
    "df_cat.head()"
   ]
  },
  {
   "cell_type": "markdown",
   "metadata": {},
   "source": [
    "### Missing values"
   ]
  },
  {
   "cell_type": "code",
   "execution_count": 536,
   "metadata": {},
   "outputs": [
    {
     "data": {
      "image/png": "[encoded data removed]",
      "text/plain": [
       "<Figure size 1080x360 with 1 Axes>"
      ]
     },
     "metadata": {},
     "output_type": "display_data"
    }
   ],
   "source": [
    "# Check missing values\n",
    "df_missing = calculate_missing_perc(df_cat)\n",
    "plot_missing_perc(df_missing)"
   ]
  },
  {
   "cell_type": "markdown",
   "metadata": {},
   "source": [
    "**Note**: From the data overview section, we saw there is only one non-null value for x99. Common imputation strategy such as \"most_frequent\" will result in zero variance of this feature. "
   ]
  },
  {
   "cell_type": "code",
   "execution_count": 537,
   "metadata": {},
   "outputs": [
    {
     "name": "stdout",
     "output_type": "stream",
     "text": [
      "Removed categorical features: ['Time']\n",
      "Remaining categorical features: ['maxUE_UL+DL']\n"
     ]
    }
   ],
   "source": [
    "removed_cat_features.extend(['Time'])\n",
    "remain_cat_features = list(set(remain_cat_features)-set(removed_cat_features))\n",
    "remain_cat_features = list(set(remain_cat_features))\n",
    "\n",
    "print('Removed categorical features:', removed_cat_features)\n",
    "print('Remaining categorical features:', remain_cat_features)"
   ]
  },
  {
   "cell_type": "code",
   "execution_count": 538,
   "metadata": {},
   "outputs": [],
   "source": [
    "# Alternatively, I tested adding a new level \"unknown\" to replace missing values\n",
    "\n",
    "remain_cat_features2 = remain_cat_features \n",
    "\n",
    "class new_level_transformer(BaseEstimator, TransformerMixin):\n",
    "    def __init__(self): \n",
    "        pass\n",
    "\n",
    "    def fit(self, X, y=None):\n",
    "        return self\n",
    "    \n",
    "    def transform(self, X, y=None):\n",
    "        X_copy = X.copy()\n",
    "        X_copy.fillna('unknown',inplace=True)                        \n",
    "        self.df = X_copy\n",
    "        return self.df\n",
    "\n",
    "    def get_feature_names(self):\n",
    "        return self.df.columns.tolist()"
   ]
  },
  {
   "cell_type": "markdown",
   "metadata": {},
   "source": [
    "### Target variable vs features"
   ]
  },
  {
   "cell_type": "code",
   "execution_count": 539,
   "metadata": {},
   "outputs": [
    {
     "data": {
      "image/png": "[encoded data removed]",
      "text/plain": [
       "<Figure size 864x288 with 1 Axes>"
      ]
     },
     "metadata": {},
     "output_type": "display_data"
    }
   ],
   "source": [
    "def plot_categorical(df, feature):\n",
    "\n",
    "    feature_df = df.groupby(feature)[\"Unusual\"].sum().reset_index()\n",
    "    feature_df['Sum'] = df.groupby(feature)[\"Unusual\"].count().values\n",
    "    feature_df['Rate'] = feature_df[\"Unusual\"].div(feature_df['Sum'])*100\n",
    "\n",
    "    fig, axes = plt.subplots(figsize=(12, 4))\n",
    "    plt.bar(feature_df[feature], feature_df['Rate'])\n",
    "    if len(feature_df[feature])>5:\n",
    "        plt.xticks(feature_df[feature], feature_df[feature],rotation='vertical')\n",
    "    else:\n",
    "        plt.xticks(feature_df[feature], feature_df[feature])\n",
    "\n",
    "    plt.xlabel(feature)\n",
    "    plt.ylabel('Rate (%)')\n",
    "\n",
    "    labels = [str(round(i,1)) for i in feature_df['Rate']]\n",
    "\n",
    "    for i in range(len(labels)):\n",
    "        plt.text(feature_df[feature][i], feature_df['Rate'][i], labels[i], ha='center', va='bottom')\n",
    "\n",
    "    plt.show()\n",
    "        \n",
    "for f in remain_cat_features:\n",
    "    plot_categorical(df_cat.join(y), f)    "
   ]
  },
  {
   "cell_type": "markdown",
   "metadata": {},
   "source": [
    "**Note**: For the remaining categorical features that have more than two levels (i.e., 'x33', 'x65', 'x3', 'x60', 'x77'), there is no evidence that any of the features has inherent ordering. Therefore, one-hot encoding will be applied to these features."
   ]
  },
  {
   "cell_type": "markdown",
   "metadata": {},
   "source": [
    "# Modeling"
   ]
  },
  {
   "cell_type": "markdown",
   "metadata": {},
   "source": [
    "## Split train dataset"
   ]
  },
  {
   "cell_type": "markdown",
   "metadata": {},
   "source": [
    "I held out 20% train data to test model performance."
   ]
  },
  {
   "cell_type": "code",
   "execution_count": 540,
   "metadata": {},
   "outputs": [
    {
     "data": {
      "text/plain": [
       "(36798,)"
      ]
     },
     "execution_count": 540,
     "metadata": {},
     "output_type": "execute_result"
    }
   ],
   "source": [
    "y.shape"
   ]
  },
  {
   "cell_type": "code",
   "execution_count": 541,
   "metadata": {},
   "outputs": [
    {
     "name": "stdout",
     "output_type": "stream",
     "text": [
      "Dataset: Class0=26618, Class1=10180\n",
      "Train: Class0=21294, Class1=8144\n",
      "Test: Class0=5324, Class1=2036\n"
     ]
    }
   ],
   "source": [
    "# split into train/test sets with same class ratio\n",
    "trainX, testX, trainy, testy =\\\n",
    "    train_test_split(X_raw, y, test_size=0.2,\n",
    "                     random_state=42, stratify=y)\n",
    "\n",
    "# summarize dataset\n",
    "print('Dataset: Class0=%d, Class1=%d' %\n",
    "      (len(y[y==0]), len(y[y==1])))\n",
    "print('Train: Class0=%d, Class1=%d' % \n",
    "      (len(trainy[trainy==0]), len(trainy[trainy==1])))\n",
    "print('Test: Class0=%d, Class1=%d' % \n",
    "      (len(testy[testy==0]), len(testy[testy==1])))"
   ]
  },
  {
   "cell_type": "markdown",
   "metadata": {},
   "source": [
    "## Preprocessing pipeline"
   ]
  },
  {
   "cell_type": "markdown",
   "metadata": {},
   "source": [
    "I tested different data transformation and imputation strategies:\n",
    "- Power transformation of numerical features\n",
    "- Fill missing values with 'mean' or 'median' for numerical features\n",
    "- IterativeSimputer() for numerical features\n",
    "- Fill 'most_frequent' value for categorical features\n",
    "- Creat new level \"unknown\" to address missing values in the categorical features\n",
    "\n",
    "Below is one of the best performing preprocessors considering both prediction score and speed."
   ]
  },
  {
   "cell_type": "code",
   "execution_count": 542,
   "metadata": {},
   "outputs": [],
   "source": [
    "num_tfm = Pipeline(steps=[\n",
    "    ('num_selector', FeatureSelector(remain_num_features)),\n",
    "    ('obj2num_tfm', numeric_transformer()),\n",
    "#     ('imputer', SimpleImputer(strategy='median'))\n",
    "#     ('imputer', IterativeImputer(max_iter=10, random_state=0))\n",
    "      ('imputer', KNNImputer(n_neighbors=2, weights=\"uniform\"))\n",
    "])\n",
    "\n",
    "cat_tfm = Pipeline(steps=[\n",
    "    ('cat_selector', FeatureSelector(remain_cat_features)),\n",
    "    ('dayofweek_tfm', dayofweek_transformer()),\n",
    "    ('imputer', SimpleImputer(strategy='most_frequent')),\n",
    "    ('encoder', OneHotEncoder(handle_unknown='ignore', sparse=False))\n",
    "])\n",
    "\n",
    "preprocessor = FeatureUnion([\n",
    "    ('num_tfm', num_tfm),\n",
    "    ('cat_tfm', cat_tfm)\n",
    "])"
   ]
  },
  {
   "cell_type": "code",
   "execution_count": 543,
   "metadata": {
    "code_folding": []
   },
   "outputs": [
    {
     "data": {
      "text/html": [
       "<div>\n",
       "<style scoped>\n",
       "    .dataframe tbody tr th:only-of-type {\n",
       "        vertical-align: middle;\n",
       "    }\n",
       "\n",
       "    .dataframe tbody tr th {\n",
       "        vertical-align: top;\n",
       "    }\n",
       "\n",
       "    .dataframe thead th {\n",
       "        text-align: right;\n",
       "    }\n",
       "</style>\n",
       "<table border=\"1\" class=\"dataframe\">\n",
       "  <thead>\n",
       "    <tr style=\"text-align: right;\">\n",
       "      <th></th>\n",
       "      <th>maxThr_DL</th>\n",
       "      <th>meanUE_UL</th>\n",
       "      <th>meanUE_DL</th>\n",
       "      <th>PRBUsageDL</th>\n",
       "      <th>meanThr_UL</th>\n",
       "      <th>maxThr_UL</th>\n",
       "      <th>maxUE_DL</th>\n",
       "      <th>maxUE_UL</th>\n",
       "      <th>meanThr_DL</th>\n",
       "      <th>PRBUsageUL</th>\n",
       "      <th>x0_#�VALOR!</th>\n",
       "      <th>x0_0</th>\n",
       "      <th>x0_1</th>\n",
       "      <th>x0_10</th>\n",
       "      <th>x0_11</th>\n",
       "      <th>x0_12</th>\n",
       "      <th>x0_13</th>\n",
       "      <th>x0_14</th>\n",
       "      <th>x0_15</th>\n",
       "      <th>x0_16</th>\n",
       "      <th>x0_17</th>\n",
       "      <th>x0_18</th>\n",
       "      <th>x0_19</th>\n",
       "      <th>x0_2</th>\n",
       "      <th>x0_20</th>\n",
       "      <th>x0_21</th>\n",
       "      <th>x0_23</th>\n",
       "      <th>x0_3</th>\n",
       "      <th>x0_4</th>\n",
       "      <th>x0_5</th>\n",
       "      <th>x0_6</th>\n",
       "      <th>x0_7</th>\n",
       "      <th>x0_8</th>\n",
       "      <th>x0_9</th>\n",
       "    </tr>\n",
       "  </thead>\n",
       "  <tbody>\n",
       "    <tr>\n",
       "      <th>0</th>\n",
       "      <td>1.373969</td>\n",
       "      <td>0.009950</td>\n",
       "      <td>0.698632</td>\n",
       "      <td>0.339325</td>\n",
       "      <td>0.023717</td>\n",
       "      <td>0.131028</td>\n",
       "      <td>1.0</td>\n",
       "      <td>1.0</td>\n",
       "      <td>0.125751</td>\n",
       "      <td>0.264669</td>\n",
       "      <td>0.0</td>\n",
       "      <td>0.0</td>\n",
       "      <td>0.0</td>\n",
       "      <td>0.0</td>\n",
       "      <td>0.0</td>\n",
       "      <td>0.0</td>\n",
       "      <td>0.0</td>\n",
       "      <td>0.0</td>\n",
       "      <td>0.0</td>\n",
       "      <td>0.0</td>\n",
       "      <td>0.0</td>\n",
       "      <td>0.0</td>\n",
       "      <td>0.0</td>\n",
       "      <td>1.0</td>\n",
       "      <td>0.0</td>\n",
       "      <td>0.0</td>\n",
       "      <td>0.0</td>\n",
       "      <td>0.0</td>\n",
       "      <td>0.0</td>\n",
       "      <td>0.0</td>\n",
       "      <td>0.0</td>\n",
       "      <td>0.0</td>\n",
       "      <td>0.0</td>\n",
       "      <td>0.0</td>\n",
       "    </tr>\n",
       "    <tr>\n",
       "      <th>1</th>\n",
       "      <td>3.129126</td>\n",
       "      <td>0.009950</td>\n",
       "      <td>0.812263</td>\n",
       "      <td>2.113360</td>\n",
       "      <td>0.078811</td>\n",
       "      <td>0.461215</td>\n",
       "      <td>5.0</td>\n",
       "      <td>3.0</td>\n",
       "      <td>1.154678</td>\n",
       "      <td>0.794349</td>\n",
       "      <td>0.0</td>\n",
       "      <td>0.0</td>\n",
       "      <td>0.0</td>\n",
       "      <td>0.0</td>\n",
       "      <td>0.0</td>\n",
       "      <td>0.0</td>\n",
       "      <td>0.0</td>\n",
       "      <td>0.0</td>\n",
       "      <td>0.0</td>\n",
       "      <td>0.0</td>\n",
       "      <td>0.0</td>\n",
       "      <td>0.0</td>\n",
       "      <td>0.0</td>\n",
       "      <td>0.0</td>\n",
       "      <td>0.0</td>\n",
       "      <td>0.0</td>\n",
       "      <td>0.0</td>\n",
       "      <td>0.0</td>\n",
       "      <td>0.0</td>\n",
       "      <td>0.0</td>\n",
       "      <td>0.0</td>\n",
       "      <td>0.0</td>\n",
       "      <td>1.0</td>\n",
       "      <td>0.0</td>\n",
       "    </tr>\n",
       "    <tr>\n",
       "      <th>2</th>\n",
       "      <td>3.516726</td>\n",
       "      <td>0.737642</td>\n",
       "      <td>0.834647</td>\n",
       "      <td>1.201169</td>\n",
       "      <td>0.079735</td>\n",
       "      <td>0.748582</td>\n",
       "      <td>6.0</td>\n",
       "      <td>4.0</td>\n",
       "      <td>0.484276</td>\n",
       "      <td>2.938421</td>\n",
       "      <td>0.0</td>\n",
       "      <td>0.0</td>\n",
       "      <td>0.0</td>\n",
       "      <td>1.0</td>\n",
       "      <td>0.0</td>\n",
       "      <td>0.0</td>\n",
       "      <td>0.0</td>\n",
       "      <td>0.0</td>\n",
       "      <td>0.0</td>\n",
       "      <td>0.0</td>\n",
       "      <td>0.0</td>\n",
       "      <td>0.0</td>\n",
       "      <td>0.0</td>\n",
       "      <td>0.0</td>\n",
       "      <td>0.0</td>\n",
       "      <td>0.0</td>\n",
       "      <td>0.0</td>\n",
       "      <td>0.0</td>\n",
       "      <td>0.0</td>\n",
       "      <td>0.0</td>\n",
       "      <td>0.0</td>\n",
       "      <td>0.0</td>\n",
       "      <td>0.0</td>\n",
       "      <td>0.0</td>\n",
       "    </tr>\n",
       "    <tr>\n",
       "      <th>3</th>\n",
       "      <td>3.761665</td>\n",
       "      <td>0.703592</td>\n",
       "      <td>0.723191</td>\n",
       "      <td>1.036382</td>\n",
       "      <td>0.044973</td>\n",
       "      <td>0.599386</td>\n",
       "      <td>3.0</td>\n",
       "      <td>2.0</td>\n",
       "      <td>0.680568</td>\n",
       "      <td>1.368639</td>\n",
       "      <td>0.0</td>\n",
       "      <td>0.0</td>\n",
       "      <td>0.0</td>\n",
       "      <td>0.0</td>\n",
       "      <td>0.0</td>\n",
       "      <td>0.0</td>\n",
       "      <td>0.0</td>\n",
       "      <td>0.0</td>\n",
       "      <td>0.0</td>\n",
       "      <td>0.0</td>\n",
       "      <td>0.0</td>\n",
       "      <td>0.0</td>\n",
       "      <td>0.0</td>\n",
       "      <td>0.0</td>\n",
       "      <td>0.0</td>\n",
       "      <td>0.0</td>\n",
       "      <td>0.0</td>\n",
       "      <td>0.0</td>\n",
       "      <td>0.0</td>\n",
       "      <td>1.0</td>\n",
       "      <td>0.0</td>\n",
       "      <td>0.0</td>\n",
       "      <td>0.0</td>\n",
       "      <td>0.0</td>\n",
       "    </tr>\n",
       "    <tr>\n",
       "      <th>4</th>\n",
       "      <td>0.522952</td>\n",
       "      <td>0.009950</td>\n",
       "      <td>0.718327</td>\n",
       "      <td>0.473747</td>\n",
       "      <td>0.013903</td>\n",
       "      <td>0.286682</td>\n",
       "      <td>3.0</td>\n",
       "      <td>2.0</td>\n",
       "      <td>0.016857</td>\n",
       "      <td>2.291726</td>\n",
       "      <td>0.0</td>\n",
       "      <td>0.0</td>\n",
       "      <td>0.0</td>\n",
       "      <td>0.0</td>\n",
       "      <td>0.0</td>\n",
       "      <td>0.0</td>\n",
       "      <td>0.0</td>\n",
       "      <td>0.0</td>\n",
       "      <td>0.0</td>\n",
       "      <td>0.0</td>\n",
       "      <td>0.0</td>\n",
       "      <td>0.0</td>\n",
       "      <td>0.0</td>\n",
       "      <td>0.0</td>\n",
       "      <td>0.0</td>\n",
       "      <td>0.0</td>\n",
       "      <td>0.0</td>\n",
       "      <td>0.0</td>\n",
       "      <td>0.0</td>\n",
       "      <td>1.0</td>\n",
       "      <td>0.0</td>\n",
       "      <td>0.0</td>\n",
       "      <td>0.0</td>\n",
       "      <td>0.0</td>\n",
       "    </tr>\n",
       "  </tbody>\n",
       "</table>\n",
       "</div>"
      ],
      "text/plain": [
       "   maxThr_DL  meanUE_UL  meanUE_DL  PRBUsageDL  meanThr_UL  maxThr_UL  \\\n",
       "0   1.373969   0.009950   0.698632    0.339325    0.023717   0.131028   \n",
       "1   3.129126   0.009950   0.812263    2.113360    0.078811   0.461215   \n",
       "2   3.516726   0.737642   0.834647    1.201169    0.079735   0.748582   \n",
       "3   3.761665   0.703592   0.723191    1.036382    0.044973   0.599386   \n",
       "4   0.522952   0.009950   0.718327    0.473747    0.013903   0.286682   \n",
       "\n",
       "   maxUE_DL  maxUE_UL  meanThr_DL  PRBUsageUL  x0_#�VALOR!  x0_0  x0_1  x0_10  \\\n",
       "0       1.0       1.0    0.125751    0.264669          0.0   0.0   0.0    0.0   \n",
       "1       5.0       3.0    1.154678    0.794349          0.0   0.0   0.0    0.0   \n",
       "2       6.0       4.0    0.484276    2.938421          0.0   0.0   0.0    1.0   \n",
       "3       3.0       2.0    0.680568    1.368639          0.0   0.0   0.0    0.0   \n",
       "4       3.0       2.0    0.016857    2.291726          0.0   0.0   0.0    0.0   \n",
       "\n",
       "   x0_11  x0_12  x0_13  x0_14  x0_15  x0_16  x0_17  x0_18  x0_19  x0_2  x0_20  \\\n",
       "0    0.0    0.0    0.0    0.0    0.0    0.0    0.0    0.0    0.0   1.0    0.0   \n",
       "1    0.0    0.0    0.0    0.0    0.0    0.0    0.0    0.0    0.0   0.0    0.0   \n",
       "2    0.0    0.0    0.0    0.0    0.0    0.0    0.0    0.0    0.0   0.0    0.0   \n",
       "3    0.0    0.0    0.0    0.0    0.0    0.0    0.0    0.0    0.0   0.0    0.0   \n",
       "4    0.0    0.0    0.0    0.0    0.0    0.0    0.0    0.0    0.0   0.0    0.0   \n",
       "\n",
       "   x0_21  x0_23  x0_3  x0_4  x0_5  x0_6  x0_7  x0_8  x0_9  \n",
       "0    0.0    0.0   0.0   0.0   0.0   0.0   0.0   0.0   0.0  \n",
       "1    0.0    0.0   0.0   0.0   0.0   0.0   0.0   1.0   0.0  \n",
       "2    0.0    0.0   0.0   0.0   0.0   0.0   0.0   0.0   0.0  \n",
       "3    0.0    0.0   0.0   0.0   1.0   0.0   0.0   0.0   0.0  \n",
       "4    0.0    0.0   0.0   0.0   1.0   0.0   0.0   0.0   0.0  "
      ]
     },
     "execution_count": 543,
     "metadata": {},
     "output_type": "execute_result"
    }
   ],
   "source": [
    "# Check if pipeline works properly\n",
    "preprocessor.fit(trainX)\n",
    "columns = remain_num_features + \\\n",
    "    preprocessor.transformer_list[1][1]['encoder'].get_feature_names().tolist()\n",
    "pd.DataFrame(preprocessor.transform(trainX), columns=columns).head()"
   ]
  },
  {
   "cell_type": "markdown",
   "metadata": {},
   "source": [
    "## Model performance metrics"
   ]
  },
  {
   "cell_type": "markdown",
   "metadata": {},
   "source": [
    "ROC AUC score was selected to evaluate model performance. The higher the score is, the better the model performs."
   ]
  },
  {
   "cell_type": "code",
   "execution_count": 544,
   "metadata": {},
   "outputs": [],
   "source": [
    "def plot_roc_auc(clf, X, y):\n",
    "\n",
    "    y_pred = clf.predict(X)\n",
    "    y_score = clf.predict_proba(X)[:,1]\n",
    "    \n",
    "    # ROC_AUC\n",
    "    fpr, tpr, thres = roc_curve(y, y_score)\n",
    "    auc_score = roc_auc_score(y, y_score)\n",
    "\n",
    "    # roc curve for tpr = fpr \n",
    "    random_probs = [0 for i in range(len(y))]\n",
    "    p_fpr, p_tpr, _ = roc_curve(y, random_probs)\n",
    "\n",
    "    # plot roc curve\n",
    "    plt.plot(fpr, tpr, color='black')\n",
    "    plt.plot(p_fpr, p_tpr, linestyle='--', color='blue')\n",
    "    plt.rcParams['font.size'] = 14\n",
    "    plt.title('ROC Curve')\n",
    "    plt.xlabel('False Positive Rate')\n",
    "    plt.ylabel('True Positive rate')\n",
    "    bbox_prop = dict(boxstyle=\"round,pad=0.3\", fc=\"cyan\", ec=\"b\", lw=2)\n",
    "    plt.text(0.8, 0.2, \"ROC AUC = {:.4f}\".format(auc_score), ha=\"center\", va=\"center\",\n",
    "                size=10, bbox=bbox_prop)\n",
    "    plt.show()"
   ]
  },
  {
   "cell_type": "markdown",
   "metadata": {},
   "source": [
    "## Logistic regression model"
   ]
  },
  {
   "cell_type": "markdown",
   "metadata": {},
   "source": [
    "**Benchmark logistic regression model**"
   ]
  },
  {
   "cell_type": "markdown",
   "metadata": {},
   "source": [
    "lr_clf_1 = Pipeline([\n",
    "    ('prep', preprocessor),\n",
    "    ('scaler', RobustScaler()),\n",
    "    ('lr', LogisticRegression())\n",
    "])\n",
    "\n",
    "lr_clf_1.fit(trainX, trainy)\n",
    "\n",
    "# Training score\n",
    "plot_roc_auc(lr_clf_1, trainX, trainy)"
   ]
  },
  {
   "cell_type": "markdown",
   "metadata": {},
   "source": [
    "# Test score\n",
    "plot_roc_auc(lr_clf_1, testX, testy)"
   ]
  },
  {
   "cell_type": "markdown",
   "metadata": {},
   "source": [
    "**Hyperparameter tuning for logistic regression model**"
   ]
  },
  {
   "cell_type": "markdown",
   "metadata": {},
   "source": [
    "# define model\n",
    "logreg = LogisticRegression()\n",
    "\n",
    "# define hyperparameters\n",
    "w = [{0:1,1:0.1}, {0:1,1:0.3}, {0:1,1:1}, {0:1,1:3}, {0:1,1:10}]\n",
    "crange = [0.1, 0.3, 1, 3, 10]\n",
    "\n",
    "param_grid = [\n",
    "    {\n",
    "        \"class_weight\": w,\n",
    "        \"C\": crange,\n",
    "        \"solver\": ['saga'],\n",
    "        \"penalty\": ['elasticnet']\n",
    "    },\n",
    "    {\n",
    "        \"class_weight\": w,\n",
    "        \"C\": crange,\n",
    "        \"solver\": ['lbfgs'],\n",
    "        \"penalty\": ['l2']\n",
    "    }\n",
    "]\n",
    "    \n",
    "lr_gs = GridSearchCV(logreg, param_grid, \n",
    "                           cv=3, n_jobs=-1, scoring='roc_auc')\n",
    "\n",
    "lr_gs_pipeline = Pipeline([\n",
    "    ('prep', preprocessor),\n",
    "    ('scaler', RobustScaler()),\n",
    "    ('gs', lr_gs)\n",
    "])"
   ]
  },
  {
   "cell_type": "markdown",
   "metadata": {},
   "source": [
    "%%time\n",
    "\n",
    "lr_gs_pipeline.fit(trainX,trainy)\n",
    "best_params = lr_gs_pipeline[2].best_params_\n",
    "best_params"
   ]
  },
  {
   "cell_type": "markdown",
   "metadata": {},
   "source": [
    "# Build the model pipeline with the optimal hyperparameters\n",
    "\n",
    "logreg = LogisticRegression(**best_params)\n",
    "\n",
    "lr_clf_2 = Pipeline([\n",
    "    ('prep', preprocessor),\n",
    "    ('scaler', RobustScaler()),\n",
    "    ('lr', logreg)])\n",
    "\n",
    "lr_clf_2.fit(trainX, trainy)\n",
    "\n",
    "# Test score\n",
    "plot_roc_auc(lr_clf_2, testX, testy)"
   ]
  },
  {
   "cell_type": "markdown",
   "metadata": {},
   "source": [
    "**Observations**: lr_clf_1 outperforms lr_clf_2, so lr_clf_1 will be retrained with the complete training dataset for results submission."
   ]
  },
  {
   "cell_type": "markdown",
   "metadata": {},
   "source": [
    "## Random forest model"
   ]
  },
  {
   "cell_type": "code",
   "execution_count": 545,
   "metadata": {},
   "outputs": [],
   "source": [
    "# Create base model to tune\n",
    "\n",
    "rf = RandomForestClassifier(\n",
    "              class_weight=\"balanced\",\n",
    "              bootstrap=True,\n",
    "              oob_score=True,\n",
    "              n_jobs=-1,\n",
    "              random_state=0,\n",
    "              max_features='auto')\n",
    "\n",
    "\n",
    "# Use GridSearchCV to tune hyperparameters.\n",
    "\n",
    "param_grid = {'n_estimators': [100, 200, 300], \n",
    "              'max_depth': [3, 5, 10],\n",
    "             'min_samples_leaf': [2, 3, 5], \n",
    "             'min_samples_split': range(30, 150, 30)} # I made a mistake, swapped min_samples_leaf and min_samples_split\n",
    "\n",
    "rf_gs = GridSearchCV(rf, param_grid, \n",
    "                           cv=3, n_jobs=-1, scoring='roc_auc')"
   ]
  },
  {
   "cell_type": "markdown",
   "metadata": {},
   "source": [
    "%%time\n",
    "\n",
    "rf_gs_pipeline = Pipeline([\n",
    "    ('prep', preprocessor),\n",
    "    ('scaler', RobustScaler()),\n",
    "    ('gs', rf_gs)\n",
    "])\n",
    "\n",
    "rf_gs_pipeline.fit(trainX, trainy)\n",
    "\n",
    "best_params = rf_gs_pipeline[2].best_params_\n",
    "best_params"
   ]
  },
  {
   "cell_type": "code",
   "execution_count": 546,
   "metadata": {},
   "outputs": [],
   "source": [
    "best_params={'max_depth': 10,\n",
    " 'min_samples_leaf': 2,\n",
    " 'min_samples_split': 30,\n",
    " 'n_estimators': 300}"
   ]
  },
  {
   "cell_type": "code",
   "execution_count": 547,
   "metadata": {},
   "outputs": [
    {
     "data": {
      "image/png": "[encoded data removed]",
      "text/plain": [
       "<Figure size 1152x595.44 with 1 Axes>"
      ]
     },
     "metadata": {},
     "output_type": "display_data"
    }
   ],
   "source": [
    "# Build the model pipeline with the optimal hyperparameters\n",
    "\n",
    "rf = RandomForestClassifier(\n",
    "              class_weight=\"balanced\",\n",
    "              bootstrap=True,\n",
    "              oob_score=True,\n",
    "              n_jobs=-1,\n",
    "              random_state=0,\n",
    "              max_features='auto',\n",
    "              **best_params)\n",
    "\n",
    "rf_clf_1 = Pipeline([\n",
    "    ('prep', preprocessor),\n",
    "    ('scaler', RobustScaler()),\n",
    "    ('rf', rf)])\n",
    "\n",
    "rf_clf_1.fit(trainX, trainy)\n",
    "\n",
    "# Train score\n",
    "plot_roc_auc(rf_clf_1, trainX, trainy)"
   ]
  },
  {
   "cell_type": "code",
   "execution_count": 548,
   "metadata": {},
   "outputs": [
    {
     "data": {
      "image/png": "[encoded data removed]",
      "text/plain": [
       "<Figure size 1152x595.44 with 1 Axes>"
      ]
     },
     "metadata": {},
     "output_type": "display_data"
    }
   ],
   "source": [
    "# Test score\n",
    "plot_roc_auc(rf_clf_1, testX, testy)"
   ]
  },
  {
   "cell_type": "code",
   "execution_count": null,
   "metadata": {},
   "outputs": [],
   "source": []
  },
  {
   "cell_type": "code",
   "execution_count": 549,
   "metadata": {},
   "outputs": [
    {
     "data": {
      "text/plain": [
       "RandomForestClassifier(class_weight='balanced', max_depth=10,\n",
       "                       min_samples_leaf=2, min_samples_split=30,\n",
       "                       n_estimators=300, n_jobs=-1, oob_score=True,\n",
       "                       random_state=0)"
      ]
     },
     "execution_count": 549,
     "metadata": {},
     "output_type": "execute_result"
    }
   ],
   "source": [
    "rf_clf_1.named_steps['rf']"
   ]
  },
  {
   "cell_type": "code",
   "execution_count": 550,
   "metadata": {},
   "outputs": [],
   "source": [
    "# SimpleImputer, IterativeImputer, KNNImputer"
   ]
  },
  {
   "cell_type": "markdown",
   "metadata": {},
   "source": [
    "onehot_columns=rf_clf_1.named_steps['prep'].transformer_list[1][1][3].get_feature_names(input_features=remain_cat_features)\n",
    "numeric_features_list = list(remain_num_features)\n",
    "numeric_features_list.extend(onehot_columns)\n",
    "\n",
    "importances = list(zip(zip(rf_clf_1.named_steps['rf'].feature_importances_, numeric_features_list)))\n",
    "importances.sort(reverse=True)\n",
    "\n",
    "std = np.std([\n",
    "    tree.feature_importances_ for tree in rf_clf_1.steps[2][1].estimators_], axis=0)\n",
    "\n",
    "from sklearn.inspection import permutation_importance\n",
    "forest_importances = pd.Series(importances, index=feature_names)"
   ]
  },
  {
   "cell_type": "markdown",
   "metadata": {},
   "source": [
    "forest_importances[:10]"
   ]
  },
  {
   "cell_type": "markdown",
   "metadata": {},
   "source": [
    "#Create a feature importance plot\n",
    "# importances = rf_clf_1.steps[2][1].feature_importances_\n",
    "onehot_columns=rf_clf_1.named_steps['prep'].transformer_list[1][1][3].get_feature_names(input_features=remain_cat_features)\n",
    "numeric_features_list = list(remain_num_features)\n",
    "numeric_features_list.extend(onehot_columns)\n",
    "# result = [ [x[1], x[0]] for x in zip(rf_clf_1.named_steps['rf'].feature_importances_, numeric_features_list)]\n",
    "# importances = list(zip(rf_clf_1.named_steps['rf'].feature_importances_, numeric_features_list))\n",
    "importances = rf_clf_1.named_steps['rf'].feature_importances_\n",
    "\n",
    "std = np.std([\n",
    "    tree.feature_importances_ for tree in rf_clf_1.steps[2][1].estimators_], axis=0)\n",
    "\n",
    "from sklearn.inspection import permutation_importance\n",
    "forest_importances = pd.Series(importances, index=numeric_features_list)\n",
    "\n",
    "# select top 12 features\n",
    "forest_importances=forest_importances[:12]\n",
    "std=std[:12]\n",
    "\n",
    "fig, ax = plt.subplots()\n",
    "forest_importances.sort_values(ascending=False).plot.bar(yerr=std, ax=ax)\n",
    "ax.set_title(\"Feature importances using MDI\")\n",
    "ax.set_ylabel(\"Mean decrease in impurity\")\n",
    "fig.tight_layout()\n",
    "fig.set_size_inches(18.5, 15)"
   ]
  },
  {
   "cell_type": "markdown",
   "metadata": {},
   "source": [
    "# Prediction"
   ]
  },
  {
   "cell_type": "markdown",
   "metadata": {},
   "source": [
    "lr_clf_1.fit(X_raw, y)"
   ]
  },
  {
   "cell_type": "markdown",
   "metadata": {},
   "source": [
    "test = pd.read_csv('ML-MATT-CompetitionQT1920_test.csv')\n",
    "test.head()"
   ]
  },
  {
   "cell_type": "markdown",
   "metadata": {},
   "source": [
    "lr_clf_1.fit(X_raw, y)\n",
    "glmresults = lr_clf_1.predict(test)"
   ]
  },
  {
   "cell_type": "markdown",
   "metadata": {},
   "source": [
    "%%time\n",
    "lr_clf_1.fit(X_raw, y)\n",
    "glmresults = lr_clf_1.predict_proba(test)[:,1]\n",
    "glmresults = pd.DataFrame(glmresults)\n",
    "glmresults.to_csv(r'glmresults.csv', index=False, header=False)"
   ]
  },
  {
   "cell_type": "markdown",
   "metadata": {},
   "source": [
    "%%time\n",
    "rf_clf_1.fit(X_raw, y)\n",
    "nonglmresults = rf_clf_1.predict_proba(test)[:,1]\n",
    "nonglmresults = pd.DataFrame(nonglmresults)\n",
    "nonglmresults.reset_index(inplace=True)\n",
    "nonglmresults.columns=['Id','Label']\n",
    "nonglmresults.set_index('Id')\n",
    "\n",
    "nonglmresults.to_csv(r'nonglmresults.csv', index=False, header=True)"
   ]
  },
  {
   "cell_type": "markdown",
   "metadata": {},
   "source": [
    "t1 = time.time()\n",
    "total = t1-t0\n",
    "print(\"mins:\",total/60)"
   ]
  },
  {
   "cell_type": "code",
   "execution_count": null,
   "metadata": {},
   "outputs": [],
   "source": []
  }
 ],
 "metadata": {
  "kernelspec": {
   "display_name": "Python 3",
   "language": "python",
   "name": "python3"
  },
  "language_info": {
   "codemirror_mode": {
    "name": "ipython",
    "version": 3
   },
   "file_extension": ".py",
   "mimetype": "text/x-python",
   "name": "python",
   "nbconvert_exporter": "python",
   "pygments_lexer": "ipython3",
   "version": "3.8.8"
  },
  "toc": {
   "base_numbering": 1,
   "nav_menu": {},
   "number_sections": true,
   "sideBar": true,
   "skip_h1_title": false,
   "title_cell": "Table of Contents",
   "title_sidebar": "Contents",
   "toc_cell": false,
   "toc_position": {
    "height": "calc(100% - 180px)",
    "left": "10px",
    "top": "150px",
    "width": "262.75px"
   },
   "toc_section_display": true,
   "toc_window_display": true
  }
 },
 "nbformat": 4,
 "nbformat_minor": 4
}
